{
 "cells": [
  {
   "cell_type": "markdown",
   "id": "60c92e90",
   "metadata": {},
   "source": [
    "# Project: Investigate a Dataset: Medical Appointment No Shows\n",
    "\n",
    "\n",
    "\n",
    "## Table of Contents\n",
    "- [Introduction](#introduction)\n",
    "- [Data Wrangling](#data_wrangling)\n",
    "- [Exploratory Data Analysis](#eda)\n",
    "- [Conclusions](#conclusions)"
   ]
  },
  {
   "cell_type": "markdown",
   "id": "5694981f",
   "metadata": {},
   "source": [
    "<a id='introduction'></a>\n",
    "## Introduction\n",
    "\n",
    "### Dataset Description \n",
    "This dataset collects information from 100k medical appointments in Brazil in the year 2016 and is focused on the question of whether or not patients show up for their appointment. A number of characteristics about the patient are included in each row.\n",
    "\n",
    "Some columns are described here:\n",
    "- \"ScheduledDay\" tells us on what day the patient set up their appointment.\n",
    "- \"Neighborhood\" indicates the location of the hospital.\n",
    "- \"Scholarship\" indicates whether or not the patient is enrolled in Brasilian welfare program [Bolsa Família](https://en.wikipedia.org/wiki/Bolsa_Fam%C3%ADlia).\n",
    "- \"No-show\" indicates \"Yes\" if the patient did ***not*** show up and \"No\" if the patient showed up.\n",
    "\n",
    "<a id='q_a'></a>\n",
    "### Question(s) for Analysis\n",
    "We are going to explore the data and look for answers to the following questions:\n",
    "- Does the patient's age determine the likelihood of showing up to the appointment?\n",
    "- Does the patient gender tell us if a patient is likely to show up to the appointment?\n",
    "- Does it reduces the chances of the patient showing up if the appointment is scheduled far into the future?\n",
    "- Do hypertension, diabetes, or alcoholism influence whether the patient shows up to the appointment?\n",
    "- Does being handicapped influence whether the patient shows up to the appointment?\n",
    "- Does being enrolled in Bolsa Familia correlate to patients showing up to the appointment?\n",
    "- Does being alerted via SMS increases the chances of the patient showing up to the appointment?"
   ]
  },
  {
   "cell_type": "markdown",
   "id": "9328a1f8",
   "metadata": {},
   "source": [
    "<a id='data_wrangling'></a>\n",
    "## Data Wrangling\n",
    "\n",
    "### General Properties"
   ]
  },
  {
   "cell_type": "code",
   "execution_count": 62,
   "id": "b43dfc93",
   "metadata": {},
   "outputs": [],
   "source": [
    "# Setting up the packages to use in this analysis\n",
    "import numpy as np\n",
    "import pandas as pd\n",
    "import matplotlib.pyplot as plt\n",
    "import seaborn as sns\n",
    "%matplotlib inline"
   ]
  },
  {
   "cell_type": "code",
   "execution_count": 63,
   "id": "e7f01e1f",
   "metadata": {},
   "outputs": [
    {
     "data": {
      "text/html": [
       "<div>\n",
       "<style scoped>\n",
       "    .dataframe tbody tr th:only-of-type {\n",
       "        vertical-align: middle;\n",
       "    }\n",
       "\n",
       "    .dataframe tbody tr th {\n",
       "        vertical-align: top;\n",
       "    }\n",
       "\n",
       "    .dataframe thead th {\n",
       "        text-align: right;\n",
       "    }\n",
       "</style>\n",
       "<table border=\"1\" class=\"dataframe\">\n",
       "  <thead>\n",
       "    <tr style=\"text-align: right;\">\n",
       "      <th></th>\n",
       "      <th>PatientId</th>\n",
       "      <th>AppointmentID</th>\n",
       "      <th>Gender</th>\n",
       "      <th>ScheduledDay</th>\n",
       "      <th>AppointmentDay</th>\n",
       "      <th>Age</th>\n",
       "      <th>Neighbourhood</th>\n",
       "      <th>Scholarship</th>\n",
       "      <th>Hipertension</th>\n",
       "      <th>Diabetes</th>\n",
       "      <th>Alcoholism</th>\n",
       "      <th>Handcap</th>\n",
       "      <th>SMS_received</th>\n",
       "      <th>No-show</th>\n",
       "    </tr>\n",
       "  </thead>\n",
       "  <tbody>\n",
       "    <tr>\n",
       "      <th>0</th>\n",
       "      <td>2.987250e+13</td>\n",
       "      <td>5642903</td>\n",
       "      <td>F</td>\n",
       "      <td>2016-04-29T18:38:08Z</td>\n",
       "      <td>2016-04-29T00:00:00Z</td>\n",
       "      <td>62</td>\n",
       "      <td>JARDIM DA PENHA</td>\n",
       "      <td>0</td>\n",
       "      <td>1</td>\n",
       "      <td>0</td>\n",
       "      <td>0</td>\n",
       "      <td>0</td>\n",
       "      <td>0</td>\n",
       "      <td>No</td>\n",
       "    </tr>\n",
       "    <tr>\n",
       "      <th>1</th>\n",
       "      <td>5.589978e+14</td>\n",
       "      <td>5642503</td>\n",
       "      <td>M</td>\n",
       "      <td>2016-04-29T16:08:27Z</td>\n",
       "      <td>2016-04-29T00:00:00Z</td>\n",
       "      <td>56</td>\n",
       "      <td>JARDIM DA PENHA</td>\n",
       "      <td>0</td>\n",
       "      <td>0</td>\n",
       "      <td>0</td>\n",
       "      <td>0</td>\n",
       "      <td>0</td>\n",
       "      <td>0</td>\n",
       "      <td>No</td>\n",
       "    </tr>\n",
       "    <tr>\n",
       "      <th>2</th>\n",
       "      <td>4.262962e+12</td>\n",
       "      <td>5642549</td>\n",
       "      <td>F</td>\n",
       "      <td>2016-04-29T16:19:04Z</td>\n",
       "      <td>2016-04-29T00:00:00Z</td>\n",
       "      <td>62</td>\n",
       "      <td>MATA DA PRAIA</td>\n",
       "      <td>0</td>\n",
       "      <td>0</td>\n",
       "      <td>0</td>\n",
       "      <td>0</td>\n",
       "      <td>0</td>\n",
       "      <td>0</td>\n",
       "      <td>No</td>\n",
       "    </tr>\n",
       "    <tr>\n",
       "      <th>3</th>\n",
       "      <td>8.679512e+11</td>\n",
       "      <td>5642828</td>\n",
       "      <td>F</td>\n",
       "      <td>2016-04-29T17:29:31Z</td>\n",
       "      <td>2016-04-29T00:00:00Z</td>\n",
       "      <td>8</td>\n",
       "      <td>PONTAL DE CAMBURI</td>\n",
       "      <td>0</td>\n",
       "      <td>0</td>\n",
       "      <td>0</td>\n",
       "      <td>0</td>\n",
       "      <td>0</td>\n",
       "      <td>0</td>\n",
       "      <td>No</td>\n",
       "    </tr>\n",
       "    <tr>\n",
       "      <th>4</th>\n",
       "      <td>8.841186e+12</td>\n",
       "      <td>5642494</td>\n",
       "      <td>F</td>\n",
       "      <td>2016-04-29T16:07:23Z</td>\n",
       "      <td>2016-04-29T00:00:00Z</td>\n",
       "      <td>56</td>\n",
       "      <td>JARDIM DA PENHA</td>\n",
       "      <td>0</td>\n",
       "      <td>1</td>\n",
       "      <td>1</td>\n",
       "      <td>0</td>\n",
       "      <td>0</td>\n",
       "      <td>0</td>\n",
       "      <td>No</td>\n",
       "    </tr>\n",
       "  </tbody>\n",
       "</table>\n",
       "</div>"
      ],
      "text/plain": [
       "      PatientId  AppointmentID Gender          ScheduledDay  \\\n",
       "0  2.987250e+13        5642903      F  2016-04-29T18:38:08Z   \n",
       "1  5.589978e+14        5642503      M  2016-04-29T16:08:27Z   \n",
       "2  4.262962e+12        5642549      F  2016-04-29T16:19:04Z   \n",
       "3  8.679512e+11        5642828      F  2016-04-29T17:29:31Z   \n",
       "4  8.841186e+12        5642494      F  2016-04-29T16:07:23Z   \n",
       "\n",
       "         AppointmentDay  Age      Neighbourhood  Scholarship  Hipertension  \\\n",
       "0  2016-04-29T00:00:00Z   62    JARDIM DA PENHA            0             1   \n",
       "1  2016-04-29T00:00:00Z   56    JARDIM DA PENHA            0             0   \n",
       "2  2016-04-29T00:00:00Z   62      MATA DA PRAIA            0             0   \n",
       "3  2016-04-29T00:00:00Z    8  PONTAL DE CAMBURI            0             0   \n",
       "4  2016-04-29T00:00:00Z   56    JARDIM DA PENHA            0             1   \n",
       "\n",
       "   Diabetes  Alcoholism  Handcap  SMS_received No-show  \n",
       "0         0           0        0             0      No  \n",
       "1         0           0        0             0      No  \n",
       "2         0           0        0             0      No  \n",
       "3         0           0        0             0      No  \n",
       "4         1           0        0             0      No  "
      ]
     },
     "execution_count": 63,
     "metadata": {},
     "output_type": "execute_result"
    }
   ],
   "source": [
    "# Importing the dataset CSV file\n",
    "df = pd.read_csv('noshowappointments-kagglev2-may-2016.csv')\n",
    "df.head()"
   ]
  },
  {
   "cell_type": "code",
   "execution_count": 64,
   "id": "cab4bf95",
   "metadata": {},
   "outputs": [
    {
     "name": "stdout",
     "output_type": "stream",
     "text": [
      "<class 'pandas.core.frame.DataFrame'>\n",
      "RangeIndex: 110527 entries, 0 to 110526\n",
      "Data columns (total 14 columns):\n",
      " #   Column          Non-Null Count   Dtype  \n",
      "---  ------          --------------   -----  \n",
      " 0   PatientId       110527 non-null  float64\n",
      " 1   AppointmentID   110527 non-null  int64  \n",
      " 2   Gender          110527 non-null  object \n",
      " 3   ScheduledDay    110527 non-null  object \n",
      " 4   AppointmentDay  110527 non-null  object \n",
      " 5   Age             110527 non-null  int64  \n",
      " 6   Neighbourhood   110527 non-null  object \n",
      " 7   Scholarship     110527 non-null  int64  \n",
      " 8   Hipertension    110527 non-null  int64  \n",
      " 9   Diabetes        110527 non-null  int64  \n",
      " 10  Alcoholism      110527 non-null  int64  \n",
      " 11  Handcap         110527 non-null  int64  \n",
      " 12  SMS_received    110527 non-null  int64  \n",
      " 13  No-show         110527 non-null  object \n",
      "dtypes: float64(1), int64(8), object(5)\n",
      "memory usage: 11.8+ MB\n"
     ]
    }
   ],
   "source": [
    "df.info()"
   ]
  },
  {
   "cell_type": "markdown",
   "id": "a1a9cf14",
   "metadata": {},
   "source": [
    "There are 110527 rows and 14 columns of data. \n",
    "The dataset does *not* have null values. \n",
    "The data types of the dates is object."
   ]
  },
  {
   "cell_type": "code",
   "execution_count": 65,
   "id": "f94449a2",
   "metadata": {},
   "outputs": [
    {
     "data": {
      "text/plain": [
       "str"
      ]
     },
     "execution_count": 65,
     "metadata": {},
     "output_type": "execute_result"
    }
   ],
   "source": [
    "type(df['ScheduledDay'][0])"
   ]
  },
  {
   "cell_type": "code",
   "execution_count": 66,
   "id": "aaf2d344",
   "metadata": {},
   "outputs": [
    {
     "data": {
      "text/plain": [
       "str"
      ]
     },
     "execution_count": 66,
     "metadata": {},
     "output_type": "execute_result"
    }
   ],
   "source": [
    "type(df['AppointmentDay'][0])"
   ]
  },
  {
   "cell_type": "markdown",
   "id": "c2535fca",
   "metadata": {},
   "source": [
    "Both data types of the dates are strings, we'll need to convert those to the `datetime` data type."
   ]
  },
  {
   "cell_type": "code",
   "execution_count": 67,
   "id": "2546090b",
   "metadata": {},
   "outputs": [
    {
     "data": {
      "text/html": [
       "<div>\n",
       "<style scoped>\n",
       "    .dataframe tbody tr th:only-of-type {\n",
       "        vertical-align: middle;\n",
       "    }\n",
       "\n",
       "    .dataframe tbody tr th {\n",
       "        vertical-align: top;\n",
       "    }\n",
       "\n",
       "    .dataframe thead th {\n",
       "        text-align: right;\n",
       "    }\n",
       "</style>\n",
       "<table border=\"1\" class=\"dataframe\">\n",
       "  <thead>\n",
       "    <tr style=\"text-align: right;\">\n",
       "      <th></th>\n",
       "      <th>PatientId</th>\n",
       "      <th>AppointmentID</th>\n",
       "      <th>Age</th>\n",
       "      <th>Scholarship</th>\n",
       "      <th>Hipertension</th>\n",
       "      <th>Diabetes</th>\n",
       "      <th>Alcoholism</th>\n",
       "      <th>Handcap</th>\n",
       "      <th>SMS_received</th>\n",
       "    </tr>\n",
       "  </thead>\n",
       "  <tbody>\n",
       "    <tr>\n",
       "      <th>count</th>\n",
       "      <td>1.105270e+05</td>\n",
       "      <td>1.105270e+05</td>\n",
       "      <td>110527.000000</td>\n",
       "      <td>110527.000000</td>\n",
       "      <td>110527.000000</td>\n",
       "      <td>110527.000000</td>\n",
       "      <td>110527.000000</td>\n",
       "      <td>110527.000000</td>\n",
       "      <td>110527.000000</td>\n",
       "    </tr>\n",
       "    <tr>\n",
       "      <th>mean</th>\n",
       "      <td>1.474963e+14</td>\n",
       "      <td>5.675305e+06</td>\n",
       "      <td>37.088874</td>\n",
       "      <td>0.098266</td>\n",
       "      <td>0.197246</td>\n",
       "      <td>0.071865</td>\n",
       "      <td>0.030400</td>\n",
       "      <td>0.022248</td>\n",
       "      <td>0.321026</td>\n",
       "    </tr>\n",
       "    <tr>\n",
       "      <th>std</th>\n",
       "      <td>2.560949e+14</td>\n",
       "      <td>7.129575e+04</td>\n",
       "      <td>23.110205</td>\n",
       "      <td>0.297675</td>\n",
       "      <td>0.397921</td>\n",
       "      <td>0.258265</td>\n",
       "      <td>0.171686</td>\n",
       "      <td>0.161543</td>\n",
       "      <td>0.466873</td>\n",
       "    </tr>\n",
       "    <tr>\n",
       "      <th>min</th>\n",
       "      <td>3.921784e+04</td>\n",
       "      <td>5.030230e+06</td>\n",
       "      <td>-1.000000</td>\n",
       "      <td>0.000000</td>\n",
       "      <td>0.000000</td>\n",
       "      <td>0.000000</td>\n",
       "      <td>0.000000</td>\n",
       "      <td>0.000000</td>\n",
       "      <td>0.000000</td>\n",
       "    </tr>\n",
       "    <tr>\n",
       "      <th>25%</th>\n",
       "      <td>4.172614e+12</td>\n",
       "      <td>5.640286e+06</td>\n",
       "      <td>18.000000</td>\n",
       "      <td>0.000000</td>\n",
       "      <td>0.000000</td>\n",
       "      <td>0.000000</td>\n",
       "      <td>0.000000</td>\n",
       "      <td>0.000000</td>\n",
       "      <td>0.000000</td>\n",
       "    </tr>\n",
       "    <tr>\n",
       "      <th>50%</th>\n",
       "      <td>3.173184e+13</td>\n",
       "      <td>5.680573e+06</td>\n",
       "      <td>37.000000</td>\n",
       "      <td>0.000000</td>\n",
       "      <td>0.000000</td>\n",
       "      <td>0.000000</td>\n",
       "      <td>0.000000</td>\n",
       "      <td>0.000000</td>\n",
       "      <td>0.000000</td>\n",
       "    </tr>\n",
       "    <tr>\n",
       "      <th>75%</th>\n",
       "      <td>9.439172e+13</td>\n",
       "      <td>5.725524e+06</td>\n",
       "      <td>55.000000</td>\n",
       "      <td>0.000000</td>\n",
       "      <td>0.000000</td>\n",
       "      <td>0.000000</td>\n",
       "      <td>0.000000</td>\n",
       "      <td>0.000000</td>\n",
       "      <td>1.000000</td>\n",
       "    </tr>\n",
       "    <tr>\n",
       "      <th>max</th>\n",
       "      <td>9.999816e+14</td>\n",
       "      <td>5.790484e+06</td>\n",
       "      <td>115.000000</td>\n",
       "      <td>1.000000</td>\n",
       "      <td>1.000000</td>\n",
       "      <td>1.000000</td>\n",
       "      <td>1.000000</td>\n",
       "      <td>4.000000</td>\n",
       "      <td>1.000000</td>\n",
       "    </tr>\n",
       "  </tbody>\n",
       "</table>\n",
       "</div>"
      ],
      "text/plain": [
       "          PatientId  AppointmentID            Age    Scholarship  \\\n",
       "count  1.105270e+05   1.105270e+05  110527.000000  110527.000000   \n",
       "mean   1.474963e+14   5.675305e+06      37.088874       0.098266   \n",
       "std    2.560949e+14   7.129575e+04      23.110205       0.297675   \n",
       "min    3.921784e+04   5.030230e+06      -1.000000       0.000000   \n",
       "25%    4.172614e+12   5.640286e+06      18.000000       0.000000   \n",
       "50%    3.173184e+13   5.680573e+06      37.000000       0.000000   \n",
       "75%    9.439172e+13   5.725524e+06      55.000000       0.000000   \n",
       "max    9.999816e+14   5.790484e+06     115.000000       1.000000   \n",
       "\n",
       "        Hipertension       Diabetes     Alcoholism        Handcap  \\\n",
       "count  110527.000000  110527.000000  110527.000000  110527.000000   \n",
       "mean        0.197246       0.071865       0.030400       0.022248   \n",
       "std         0.397921       0.258265       0.171686       0.161543   \n",
       "min         0.000000       0.000000       0.000000       0.000000   \n",
       "25%         0.000000       0.000000       0.000000       0.000000   \n",
       "50%         0.000000       0.000000       0.000000       0.000000   \n",
       "75%         0.000000       0.000000       0.000000       0.000000   \n",
       "max         1.000000       1.000000       1.000000       4.000000   \n",
       "\n",
       "        SMS_received  \n",
       "count  110527.000000  \n",
       "mean        0.321026  \n",
       "std         0.466873  \n",
       "min         0.000000  \n",
       "25%         0.000000  \n",
       "50%         0.000000  \n",
       "75%         1.000000  \n",
       "max         1.000000  "
      ]
     },
     "execution_count": 67,
     "metadata": {},
     "output_type": "execute_result"
    }
   ],
   "source": [
    "df.describe()"
   ]
  },
  {
   "cell_type": "markdown",
   "id": "0d341fb0",
   "metadata": {},
   "source": [
    "Seems like there's a minimum age of '-1' which is incongruent, we will discard these, and the maximum age is 115 which is possible so we will keep those rows. "
   ]
  },
  {
   "cell_type": "code",
   "execution_count": 68,
   "id": "a593bf77",
   "metadata": {},
   "outputs": [
    {
     "data": {
      "image/png": "[encoded data removed]",
      "text/plain": [
       "<Figure size 720x576 with 9 Axes>"
      ]
     },
     "metadata": {
      "needs_background": "light"
     },
     "output_type": "display_data"
    }
   ],
   "source": [
    "df.hist(figsize=(10,8));"
   ]
  },
  {
   "cell_type": "code",
   "execution_count": 69,
   "id": "67d035ed",
   "metadata": {},
   "outputs": [
    {
     "data": {
      "text/plain": [
       "PatientId          62299\n",
       "AppointmentID     110527\n",
       "Gender                 2\n",
       "ScheduledDay      103549\n",
       "AppointmentDay        27\n",
       "Age                  104\n",
       "Neighbourhood         81\n",
       "Scholarship            2\n",
       "Hipertension           2\n",
       "Diabetes               2\n",
       "Alcoholism             2\n",
       "Handcap                5\n",
       "SMS_received           2\n",
       "No-show                2\n",
       "dtype: int64"
      ]
     },
     "execution_count": 69,
     "metadata": {},
     "output_type": "execute_result"
    }
   ],
   "source": [
    "df.nunique()"
   ]
  },
  {
   "cell_type": "markdown",
   "id": "92768bb4",
   "metadata": {},
   "source": [
    "The indicators in the Scholarship, Hypertension, Diabetes, Alcoholism, and SMS_received are normal, there are only two variants, 1 and 0, yes or no, but there seem to be 5 numbers in handicap, we will check if the numbers of incidents apart from 0 and 1 are too many if so we might discard the column because the data does not provide explanation of the meaning of numbers larger than 1, if there are only a few incidents we will get rid of those rows. "
   ]
  },
  {
   "cell_type": "code",
   "execution_count": 70,
   "id": "b2952761",
   "metadata": {},
   "outputs": [
    {
     "data": {
      "text/plain": [
       "PatientId         199\n",
       "AppointmentID     199\n",
       "Gender            199\n",
       "ScheduledDay      199\n",
       "AppointmentDay    199\n",
       "Age               199\n",
       "Neighbourhood     199\n",
       "Scholarship       199\n",
       "Hipertension      199\n",
       "Diabetes          199\n",
       "Alcoholism        199\n",
       "Handcap           199\n",
       "SMS_received      199\n",
       "No-show           199\n",
       "dtype: int64"
      ]
     },
     "execution_count": 70,
     "metadata": {},
     "output_type": "execute_result"
    }
   ],
   "source": [
    "df.query('Handcap > 1').count()"
   ]
  },
  {
   "cell_type": "markdown",
   "id": "e65ef337",
   "metadata": {},
   "source": [
    "There are only 199 occurrences of the Handicap indicator higher than 1. We will get rid of those rows because the data does not provide explanation of the meaning of numbers larger than 1."
   ]
  },
  {
   "cell_type": "code",
   "execution_count": 71,
   "id": "2284ea2a",
   "metadata": {},
   "outputs": [
    {
     "data": {
      "text/plain": [
       "PatientId         1\n",
       "AppointmentID     1\n",
       "Gender            1\n",
       "ScheduledDay      1\n",
       "AppointmentDay    1\n",
       "Age               1\n",
       "Neighbourhood     1\n",
       "Scholarship       1\n",
       "Hipertension      1\n",
       "Diabetes          1\n",
       "Alcoholism        1\n",
       "Handcap           1\n",
       "SMS_received      1\n",
       "No-show           1\n",
       "dtype: int64"
      ]
     },
     "execution_count": 71,
     "metadata": {},
     "output_type": "execute_result"
    }
   ],
   "source": [
    "df.query('Age == -1').count()"
   ]
  },
  {
   "cell_type": "markdown",
   "id": "45a1539d",
   "metadata": {},
   "source": [
    "There's only 1 occurrence of Age '-1'. We'll get rid of that too. "
   ]
  },
  {
   "cell_type": "code",
   "execution_count": 72,
   "id": "0aa4f5b5",
   "metadata": {},
   "outputs": [
    {
     "data": {
      "text/plain": [
       "PatientId         0\n",
       "AppointmentID     0\n",
       "Gender            0\n",
       "ScheduledDay      0\n",
       "AppointmentDay    0\n",
       "Age               0\n",
       "Neighbourhood     0\n",
       "Scholarship       0\n",
       "Hipertension      0\n",
       "Diabetes          0\n",
       "Alcoholism        0\n",
       "Handcap           0\n",
       "SMS_received      0\n",
       "No-show           0\n",
       "dtype: int64"
      ]
     },
     "execution_count": 72,
     "metadata": {},
     "output_type": "execute_result"
    }
   ],
   "source": [
    "df[df.duplicated() == True].count()"
   ]
  },
  {
   "cell_type": "markdown",
   "id": "98e89d6a",
   "metadata": {},
   "source": [
    "There are no duplicated rows in this dataset. "
   ]
  },
  {
   "cell_type": "markdown",
   "id": "9c629c8d",
   "metadata": {},
   "source": [
    "### Data Cleaning"
   ]
  },
  {
   "cell_type": "code",
   "execution_count": 73,
   "id": "cb9349fc",
   "metadata": {},
   "outputs": [],
   "source": [
    "df.rename(columns = str.lower, inplace=True)"
   ]
  },
  {
   "cell_type": "code",
   "execution_count": 74,
   "id": "869cebeb",
   "metadata": {},
   "outputs": [],
   "source": [
    "df.rename(columns = {'no-show' : 'showed_up', 'hipertension' : 'hypertension', 'handcap' : 'handicap'}, inplace=True)"
   ]
  },
  {
   "cell_type": "code",
   "execution_count": 75,
   "id": "93bd1e04",
   "metadata": {},
   "outputs": [],
   "source": [
    "df.drop(['patientid', 'appointmentid'], axis=1, inplace=True)"
   ]
  },
  {
   "cell_type": "code",
   "execution_count": 76,
   "id": "aac76fd7",
   "metadata": {},
   "outputs": [
    {
     "data": {
      "text/html": [
       "<div>\n",
       "<style scoped>\n",
       "    .dataframe tbody tr th:only-of-type {\n",
       "        vertical-align: middle;\n",
       "    }\n",
       "\n",
       "    .dataframe tbody tr th {\n",
       "        vertical-align: top;\n",
       "    }\n",
       "\n",
       "    .dataframe thead th {\n",
       "        text-align: right;\n",
       "    }\n",
       "</style>\n",
       "<table border=\"1\" class=\"dataframe\">\n",
       "  <thead>\n",
       "    <tr style=\"text-align: right;\">\n",
       "      <th></th>\n",
       "      <th>gender</th>\n",
       "      <th>scheduledday</th>\n",
       "      <th>appointmentday</th>\n",
       "      <th>age</th>\n",
       "      <th>neighbourhood</th>\n",
       "      <th>scholarship</th>\n",
       "      <th>hypertension</th>\n",
       "      <th>diabetes</th>\n",
       "      <th>alcoholism</th>\n",
       "      <th>handicap</th>\n",
       "      <th>sms_received</th>\n",
       "      <th>showed_up</th>\n",
       "    </tr>\n",
       "  </thead>\n",
       "  <tbody>\n",
       "    <tr>\n",
       "      <th>0</th>\n",
       "      <td>F</td>\n",
       "      <td>2016-04-29T18:38:08Z</td>\n",
       "      <td>2016-04-29T00:00:00Z</td>\n",
       "      <td>62</td>\n",
       "      <td>JARDIM DA PENHA</td>\n",
       "      <td>0</td>\n",
       "      <td>1</td>\n",
       "      <td>0</td>\n",
       "      <td>0</td>\n",
       "      <td>0</td>\n",
       "      <td>0</td>\n",
       "      <td>No</td>\n",
       "    </tr>\n",
       "    <tr>\n",
       "      <th>1</th>\n",
       "      <td>M</td>\n",
       "      <td>2016-04-29T16:08:27Z</td>\n",
       "      <td>2016-04-29T00:00:00Z</td>\n",
       "      <td>56</td>\n",
       "      <td>JARDIM DA PENHA</td>\n",
       "      <td>0</td>\n",
       "      <td>0</td>\n",
       "      <td>0</td>\n",
       "      <td>0</td>\n",
       "      <td>0</td>\n",
       "      <td>0</td>\n",
       "      <td>No</td>\n",
       "    </tr>\n",
       "    <tr>\n",
       "      <th>2</th>\n",
       "      <td>F</td>\n",
       "      <td>2016-04-29T16:19:04Z</td>\n",
       "      <td>2016-04-29T00:00:00Z</td>\n",
       "      <td>62</td>\n",
       "      <td>MATA DA PRAIA</td>\n",
       "      <td>0</td>\n",
       "      <td>0</td>\n",
       "      <td>0</td>\n",
       "      <td>0</td>\n",
       "      <td>0</td>\n",
       "      <td>0</td>\n",
       "      <td>No</td>\n",
       "    </tr>\n",
       "  </tbody>\n",
       "</table>\n",
       "</div>"
      ],
      "text/plain": [
       "  gender          scheduledday        appointmentday  age    neighbourhood  \\\n",
       "0      F  2016-04-29T18:38:08Z  2016-04-29T00:00:00Z   62  JARDIM DA PENHA   \n",
       "1      M  2016-04-29T16:08:27Z  2016-04-29T00:00:00Z   56  JARDIM DA PENHA   \n",
       "2      F  2016-04-29T16:19:04Z  2016-04-29T00:00:00Z   62    MATA DA PRAIA   \n",
       "\n",
       "   scholarship  hypertension  diabetes  alcoholism  handicap  sms_received  \\\n",
       "0            0             1         0           0         0             0   \n",
       "1            0             0         0           0         0             0   \n",
       "2            0             0         0           0         0             0   \n",
       "\n",
       "  showed_up  \n",
       "0        No  \n",
       "1        No  \n",
       "2        No  "
      ]
     },
     "execution_count": 76,
     "metadata": {},
     "output_type": "execute_result"
    }
   ],
   "source": [
    "df.head(3)"
   ]
  },
  {
   "cell_type": "markdown",
   "id": "166ddd25",
   "metadata": {},
   "source": [
    "We change the column labels to lowercase, convert to underscore the spaces between words, and translate the labels to the English language to have a consistent format.\n",
    "\n",
    "We also drop the 'patientid' and 'appointmentid' columns because we won't be needing them.\n",
    "\n",
    "The \"no-show\" values will be changed to have consistent indicators, right now \"No\" means the patient showed up, and \"Yes\" means the patient did ***not*** show up."
   ]
  },
  {
   "cell_type": "code",
   "execution_count": 77,
   "id": "23101bf5",
   "metadata": {},
   "outputs": [],
   "source": [
    "df['showed_up'] = df['showed_up'].map({'No':'Yes',\n",
    "                                      'Yes':'No'},\n",
    "                                      na_action=None)\n"
   ]
  },
  {
   "cell_type": "markdown",
   "id": "23de30b5",
   "metadata": {},
   "source": [
    "Change the \"showed_up\" column from \"No\" to \"Yes\" and vice versa, to have a consistent definition. "
   ]
  },
  {
   "cell_type": "code",
   "execution_count": 78,
   "id": "52bc00d7",
   "metadata": {},
   "outputs": [
    {
     "data": {
      "text/plain": [
       "pandas._libs.tslibs.timestamps.Timestamp"
      ]
     },
     "execution_count": 78,
     "metadata": {},
     "output_type": "execute_result"
    }
   ],
   "source": [
    "df['scheduledday'] = pd.to_datetime(df['scheduledday'])\n",
    "type(df['scheduledday'][0])"
   ]
  },
  {
   "cell_type": "code",
   "execution_count": 79,
   "id": "b4f8fb3a",
   "metadata": {},
   "outputs": [
    {
     "data": {
      "text/plain": [
       "pandas._libs.tslibs.timestamps.Timestamp"
      ]
     },
     "execution_count": 79,
     "metadata": {},
     "output_type": "execute_result"
    }
   ],
   "source": [
    "df['appointmentday'] = pd.to_datetime(df['appointmentday'])\n",
    "type(df['appointmentday'][0])"
   ]
  },
  {
   "cell_type": "markdown",
   "id": "b1656af2",
   "metadata": {},
   "source": [
    "We convert the data types of the dates when the appointments were scheduled and the dates when the appointments took place to datetime stamps."
   ]
  },
  {
   "cell_type": "code",
   "execution_count": 80,
   "id": "0f079042",
   "metadata": {},
   "outputs": [
    {
     "data": {
      "text/html": [
       "<div>\n",
       "<style scoped>\n",
       "    .dataframe tbody tr th:only-of-type {\n",
       "        vertical-align: middle;\n",
       "    }\n",
       "\n",
       "    .dataframe tbody tr th {\n",
       "        vertical-align: top;\n",
       "    }\n",
       "\n",
       "    .dataframe thead th {\n",
       "        text-align: right;\n",
       "    }\n",
       "</style>\n",
       "<table border=\"1\" class=\"dataframe\">\n",
       "  <thead>\n",
       "    <tr style=\"text-align: right;\">\n",
       "      <th></th>\n",
       "      <th>gender</th>\n",
       "      <th>scheduledday</th>\n",
       "      <th>appointmentday</th>\n",
       "      <th>age</th>\n",
       "      <th>neighbourhood</th>\n",
       "      <th>scholarship</th>\n",
       "      <th>hypertension</th>\n",
       "      <th>diabetes</th>\n",
       "      <th>alcoholism</th>\n",
       "      <th>handicap</th>\n",
       "      <th>sms_received</th>\n",
       "      <th>showed_up</th>\n",
       "      <th>daysbetween</th>\n",
       "    </tr>\n",
       "  </thead>\n",
       "  <tbody>\n",
       "    <tr>\n",
       "      <th>0</th>\n",
       "      <td>F</td>\n",
       "      <td>2016-04-29 18:38:08+00:00</td>\n",
       "      <td>2016-04-29 00:00:00+00:00</td>\n",
       "      <td>62</td>\n",
       "      <td>JARDIM DA PENHA</td>\n",
       "      <td>0</td>\n",
       "      <td>1</td>\n",
       "      <td>0</td>\n",
       "      <td>0</td>\n",
       "      <td>0</td>\n",
       "      <td>0</td>\n",
       "      <td>Yes</td>\n",
       "      <td>0</td>\n",
       "    </tr>\n",
       "    <tr>\n",
       "      <th>1</th>\n",
       "      <td>M</td>\n",
       "      <td>2016-04-29 16:08:27+00:00</td>\n",
       "      <td>2016-04-29 00:00:00+00:00</td>\n",
       "      <td>56</td>\n",
       "      <td>JARDIM DA PENHA</td>\n",
       "      <td>0</td>\n",
       "      <td>0</td>\n",
       "      <td>0</td>\n",
       "      <td>0</td>\n",
       "      <td>0</td>\n",
       "      <td>0</td>\n",
       "      <td>Yes</td>\n",
       "      <td>0</td>\n",
       "    </tr>\n",
       "    <tr>\n",
       "      <th>2</th>\n",
       "      <td>F</td>\n",
       "      <td>2016-04-29 16:19:04+00:00</td>\n",
       "      <td>2016-04-29 00:00:00+00:00</td>\n",
       "      <td>62</td>\n",
       "      <td>MATA DA PRAIA</td>\n",
       "      <td>0</td>\n",
       "      <td>0</td>\n",
       "      <td>0</td>\n",
       "      <td>0</td>\n",
       "      <td>0</td>\n",
       "      <td>0</td>\n",
       "      <td>Yes</td>\n",
       "      <td>0</td>\n",
       "    </tr>\n",
       "  </tbody>\n",
       "</table>\n",
       "</div>"
      ],
      "text/plain": [
       "  gender              scheduledday            appointmentday  age  \\\n",
       "0      F 2016-04-29 18:38:08+00:00 2016-04-29 00:00:00+00:00   62   \n",
       "1      M 2016-04-29 16:08:27+00:00 2016-04-29 00:00:00+00:00   56   \n",
       "2      F 2016-04-29 16:19:04+00:00 2016-04-29 00:00:00+00:00   62   \n",
       "\n",
       "     neighbourhood  scholarship  hypertension  diabetes  alcoholism  handicap  \\\n",
       "0  JARDIM DA PENHA            0             1         0           0         0   \n",
       "1  JARDIM DA PENHA            0             0         0           0         0   \n",
       "2    MATA DA PRAIA            0             0         0           0         0   \n",
       "\n",
       "   sms_received showed_up  daysbetween  \n",
       "0             0       Yes            0  \n",
       "1             0       Yes            0  \n",
       "2             0       Yes            0  "
      ]
     },
     "execution_count": 80,
     "metadata": {},
     "output_type": "execute_result"
    }
   ],
   "source": [
    "daysbetween = df['appointmentday'].dt.date - df['scheduledday'].dt.date\n",
    "df['daysbetween'] = daysbetween.dt.days.view(int)\n",
    "df.head(3)"
   ]
  },
  {
   "cell_type": "markdown",
   "id": "3ed9cc2b",
   "metadata": {},
   "source": [
    "We now add a new column with the number of days between the scheduling of the appointment and the appointment itself. "
   ]
  },
  {
   "cell_type": "code",
   "execution_count": 81,
   "id": "135ef24d",
   "metadata": {},
   "outputs": [
    {
     "data": {
      "text/html": [
       "<div>\n",
       "<style scoped>\n",
       "    .dataframe tbody tr th:only-of-type {\n",
       "        vertical-align: middle;\n",
       "    }\n",
       "\n",
       "    .dataframe tbody tr th {\n",
       "        vertical-align: top;\n",
       "    }\n",
       "\n",
       "    .dataframe thead th {\n",
       "        text-align: right;\n",
       "    }\n",
       "</style>\n",
       "<table border=\"1\" class=\"dataframe\">\n",
       "  <thead>\n",
       "    <tr style=\"text-align: right;\">\n",
       "      <th></th>\n",
       "      <th>gender</th>\n",
       "      <th>scheduledday</th>\n",
       "      <th>appointmentday</th>\n",
       "      <th>age</th>\n",
       "      <th>neighbourhood</th>\n",
       "      <th>scholarship</th>\n",
       "      <th>hypertension</th>\n",
       "      <th>diabetes</th>\n",
       "      <th>alcoholism</th>\n",
       "      <th>handicap</th>\n",
       "      <th>sms_received</th>\n",
       "      <th>showed_up</th>\n",
       "      <th>daysbetween</th>\n",
       "    </tr>\n",
       "  </thead>\n",
       "  <tbody>\n",
       "    <tr>\n",
       "      <th>27033</th>\n",
       "      <td>M</td>\n",
       "      <td>2016-05-10 10:51:53+00:00</td>\n",
       "      <td>2016-05-09 00:00:00+00:00</td>\n",
       "      <td>38</td>\n",
       "      <td>RESISTÊNCIA</td>\n",
       "      <td>0</td>\n",
       "      <td>0</td>\n",
       "      <td>0</td>\n",
       "      <td>0</td>\n",
       "      <td>1</td>\n",
       "      <td>0</td>\n",
       "      <td>No</td>\n",
       "      <td>-1</td>\n",
       "    </tr>\n",
       "    <tr>\n",
       "      <th>55226</th>\n",
       "      <td>F</td>\n",
       "      <td>2016-05-18 14:50:41+00:00</td>\n",
       "      <td>2016-05-17 00:00:00+00:00</td>\n",
       "      <td>19</td>\n",
       "      <td>SANTO ANTÔNIO</td>\n",
       "      <td>0</td>\n",
       "      <td>0</td>\n",
       "      <td>0</td>\n",
       "      <td>0</td>\n",
       "      <td>1</td>\n",
       "      <td>0</td>\n",
       "      <td>No</td>\n",
       "      <td>-1</td>\n",
       "    </tr>\n",
       "    <tr>\n",
       "      <th>64175</th>\n",
       "      <td>F</td>\n",
       "      <td>2016-05-05 13:43:58+00:00</td>\n",
       "      <td>2016-05-04 00:00:00+00:00</td>\n",
       "      <td>22</td>\n",
       "      <td>CONSOLAÇÃO</td>\n",
       "      <td>0</td>\n",
       "      <td>0</td>\n",
       "      <td>0</td>\n",
       "      <td>0</td>\n",
       "      <td>0</td>\n",
       "      <td>0</td>\n",
       "      <td>No</td>\n",
       "      <td>-1</td>\n",
       "    </tr>\n",
       "    <tr>\n",
       "      <th>71533</th>\n",
       "      <td>F</td>\n",
       "      <td>2016-05-11 13:49:20+00:00</td>\n",
       "      <td>2016-05-05 00:00:00+00:00</td>\n",
       "      <td>81</td>\n",
       "      <td>SANTO ANTÔNIO</td>\n",
       "      <td>0</td>\n",
       "      <td>0</td>\n",
       "      <td>0</td>\n",
       "      <td>0</td>\n",
       "      <td>0</td>\n",
       "      <td>0</td>\n",
       "      <td>No</td>\n",
       "      <td>-6</td>\n",
       "    </tr>\n",
       "    <tr>\n",
       "      <th>72362</th>\n",
       "      <td>M</td>\n",
       "      <td>2016-05-04 06:50:57+00:00</td>\n",
       "      <td>2016-05-03 00:00:00+00:00</td>\n",
       "      <td>7</td>\n",
       "      <td>TABUAZEIRO</td>\n",
       "      <td>0</td>\n",
       "      <td>0</td>\n",
       "      <td>0</td>\n",
       "      <td>0</td>\n",
       "      <td>0</td>\n",
       "      <td>0</td>\n",
       "      <td>No</td>\n",
       "      <td>-1</td>\n",
       "    </tr>\n",
       "  </tbody>\n",
       "</table>\n",
       "</div>"
      ],
      "text/plain": [
       "      gender              scheduledday            appointmentday  age  \\\n",
       "27033      M 2016-05-10 10:51:53+00:00 2016-05-09 00:00:00+00:00   38   \n",
       "55226      F 2016-05-18 14:50:41+00:00 2016-05-17 00:00:00+00:00   19   \n",
       "64175      F 2016-05-05 13:43:58+00:00 2016-05-04 00:00:00+00:00   22   \n",
       "71533      F 2016-05-11 13:49:20+00:00 2016-05-05 00:00:00+00:00   81   \n",
       "72362      M 2016-05-04 06:50:57+00:00 2016-05-03 00:00:00+00:00    7   \n",
       "\n",
       "       neighbourhood  scholarship  hypertension  diabetes  alcoholism  \\\n",
       "27033    RESISTÊNCIA            0             0         0           0   \n",
       "55226  SANTO ANTÔNIO            0             0         0           0   \n",
       "64175     CONSOLAÇÃO            0             0         0           0   \n",
       "71533  SANTO ANTÔNIO            0             0         0           0   \n",
       "72362     TABUAZEIRO            0             0         0           0   \n",
       "\n",
       "       handicap  sms_received showed_up  daysbetween  \n",
       "27033         1             0        No           -1  \n",
       "55226         1             0        No           -1  \n",
       "64175         0             0        No           -1  \n",
       "71533         0             0        No           -6  \n",
       "72362         0             0        No           -1  "
      ]
     },
     "execution_count": 81,
     "metadata": {},
     "output_type": "execute_result"
    }
   ],
   "source": [
    "df[df['daysbetween'] < 0]"
   ]
  },
  {
   "cell_type": "markdown",
   "id": "2b96d610",
   "metadata": {},
   "source": [
    "We can see that some appointments were scheduled days after they were supposed to happen. "
   ]
  },
  {
   "cell_type": "code",
   "execution_count": 82,
   "id": "2b3c354b",
   "metadata": {},
   "outputs": [
    {
     "data": {
      "text/plain": [
       "gender            5\n",
       "scheduledday      5\n",
       "appointmentday    5\n",
       "age               5\n",
       "neighbourhood     5\n",
       "scholarship       5\n",
       "hypertension      5\n",
       "diabetes          5\n",
       "alcoholism        5\n",
       "handicap          5\n",
       "sms_received      5\n",
       "showed_up         5\n",
       "daysbetween       5\n",
       "dtype: int64"
      ]
     },
     "execution_count": 82,
     "metadata": {},
     "output_type": "execute_result"
    }
   ],
   "source": [
    "df.query('daysbetween < 0').count()"
   ]
  },
  {
   "cell_type": "code",
   "execution_count": 83,
   "id": "2f215e8f",
   "metadata": {},
   "outputs": [],
   "source": [
    "df.drop(df.query('daysbetween < 0').index, inplace=True)"
   ]
  },
  {
   "cell_type": "markdown",
   "id": "366c3408",
   "metadata": {},
   "source": [
    "They are only 5 rows so we'll get rid of those. "
   ]
  },
  {
   "cell_type": "code",
   "execution_count": 84,
   "id": "2902d114",
   "metadata": {},
   "outputs": [],
   "source": [
    "df.drop(df.query('handicap > 1').index, inplace=True);"
   ]
  },
  {
   "cell_type": "markdown",
   "id": "96dc8211",
   "metadata": {},
   "source": [
    "We get rid of the handicap indicators above 1. There were only 199 of them, those might have been mistakes when entering the data. "
   ]
  },
  {
   "cell_type": "code",
   "execution_count": 85,
   "id": "bcc99db8",
   "metadata": {},
   "outputs": [],
   "source": [
    "df.drop(df.query('age < 0').index, inplace=True)"
   ]
  },
  {
   "cell_type": "markdown",
   "id": "e944f706",
   "metadata": {},
   "source": [
    "We also get rid of the row with age '-1' because it does not make sense. "
   ]
  },
  {
   "cell_type": "markdown",
   "id": "684669a5",
   "metadata": {},
   "source": [
    "<a id='eda'></a>\n",
    "## Exploratory Data Analysis\n",
    "\n",
    "### Research Question: Does the patient's age determine the likelihood of showing up to the appointment?"
   ]
  },
  {
   "cell_type": "code",
   "execution_count": 86,
   "id": "7ce91460",
   "metadata": {},
   "outputs": [],
   "source": [
    "df_showed_up = df.query('showed_up == \"Yes\"')\n",
    "df_not_showed_up = df.query('showed_up == \"No\"')"
   ]
  },
  {
   "cell_type": "code",
   "execution_count": 87,
   "id": "85f504f9",
   "metadata": {},
   "outputs": [
    {
     "data": {
      "image/png": "[encoded data removed]",
      "text/plain": [
       "<Figure size 432x288 with 1 Axes>"
      ]
     },
     "metadata": {
      "needs_background": "light"
     },
     "output_type": "display_data"
    }
   ],
   "source": [
    "plt.hist(df_showed_up['age'], bins=20, color='blue')\n",
    "plt.hist(df_not_showed_up['age'], bins=20, color='red')\n",
    "plt.ylabel('Amount of Appointments')\n",
    "plt.xlabel('Ages')\n",
    "plt.title('Histogram of Ages and if They Showed Up to Appointment')\n",
    "plt.legend(['Showed Up', 'No Show']);"
   ]
  },
  {
   "cell_type": "markdown",
   "id": "584d82fa",
   "metadata": {},
   "source": [
    "It seems that there are more appointments for babies and young children, and the majority of them show up to the appointment. There are fewer appointments made by people ages 10 - 25 approximately, presumably because they are healthier at that age. We see that for people ages 26 - 64 there is a growth in the number of appointments, except for a considerate decrease of appointments in people ages 41 - 48 approximately. The distribution is skewed to the right mainly because of the life expectancy. According to the data of the United Nations, in the period 2010 - 2015, in which this data was taken, Brazil had a life expectancy of 74.34."
   ]
  },
  {
   "cell_type": "markdown",
   "id": "47899f0d",
   "metadata": {},
   "source": [
    " ### Research Question: Does the patient gender tell us if a patient is likely to show up to the appointment?"
   ]
  },
  {
   "cell_type": "code",
   "execution_count": 88,
   "id": "6002b739",
   "metadata": {},
   "outputs": [
    {
     "data": {
      "image/png": "[encoded data removed]",
      "text/plain": [
       "<Figure size 432x288 with 1 Axes>"
      ]
     },
     "metadata": {
      "needs_background": "light"
     },
     "output_type": "display_data"
    }
   ],
   "source": [
    "f_amount = df_showed_up.query('gender == \"F\"')['gender'].count()\n",
    "m_amount = df_showed_up.query('gender == \"M\"')['gender'].count()\n",
    "values = [f_amount, m_amount]\n",
    "genders = ['F', 'M']\n",
    "\n",
    "plt.bar(genders, values, color='purple')\n",
    "\n",
    "plt.ylabel('Amount of Appointments')\n",
    "plt.xlabel('Gender')\n",
    "plt.title('Amount of Appointments by Gender');"
   ]
  },
  {
   "cell_type": "markdown",
   "id": "9ddcd877",
   "metadata": {},
   "source": [
    "There are more appointments made by women than men."
   ]
  },
  {
   "cell_type": "code",
   "execution_count": 89,
   "id": "6b236e36",
   "metadata": {},
   "outputs": [
    {
     "data": {
      "text/plain": [
       "F    64.920669\n",
       "M    35.079331\n",
       "Name: gender, dtype: float64"
      ]
     },
     "execution_count": 89,
     "metadata": {},
     "output_type": "execute_result"
    }
   ],
   "source": [
    "percent_show_gender = df_showed_up['gender'].value_counts() / df_showed_up.shape[0] * 100\n",
    "percent_show_gender"
   ]
  },
  {
   "cell_type": "code",
   "execution_count": 90,
   "id": "c2991ede",
   "metadata": {},
   "outputs": [
    {
     "data": {
      "text/plain": [
       "F    65.393077\n",
       "M    34.606923\n",
       "Name: gender, dtype: float64"
      ]
     },
     "execution_count": 90,
     "metadata": {},
     "output_type": "execute_result"
    }
   ],
   "source": [
    "percent_no_show_gender = df_not_showed_up['gender'].value_counts() / df_not_showed_up.shape[0] * 100\n",
    "percent_no_show_gender"
   ]
  },
  {
   "cell_type": "code",
   "execution_count": 91,
   "id": "aececa5a",
   "metadata": {},
   "outputs": [
    {
     "data": {
      "image/png": "[encoded data removed]",
      "text/plain": [
       "<Figure size 432x288 with 1 Axes>"
      ]
     },
     "metadata": {
      "needs_background": "light"
     },
     "output_type": "display_data"
    }
   ],
   "source": [
    "ind_x = np.arange(len(percent_show_gender))  # the x locations for the groups\n",
    "width_bars = 0.35       # the width of the bars\n",
    "\n",
    "blue_bars = plt.bar(ind_x, percent_show_gender, width_bars, color='blue', label='Showed Up')\n",
    "orange_bars = plt.bar(ind_x + width_bars, percent_no_show_gender, width_bars, color='red', label='No Show')\n",
    "\n",
    "# title and labels\n",
    "plt.ylabel('Percentage')\n",
    "plt.xlabel('Gender')\n",
    "plt.title('Percentage of Attendance by Gender')\n",
    "locations = ind_x + width_bars / 2  # xtick locations\n",
    "labels = ['Feminine', 'Masculine']  # xtick labels\n",
    "plt.xticks(locations, labels)\n",
    "\n",
    "# legend\n",
    "plt.legend();"
   ]
  },
  {
   "cell_type": "markdown",
   "id": "5bedf5ef",
   "metadata": {},
   "source": [
    "We see in the \"Percentage of Attendance by Gender\" chart that despite women having more appointments, roughly half of the men and half of the women don't show up to the appointment. There's **no** correlation between genders and not showing up to the appointment. "
   ]
  },
  {
   "cell_type": "markdown",
   "id": "9bf28346",
   "metadata": {},
   "source": [
    "### Research Question: Does it reduces the chances of the patient showing up if the appointment is scheduled far into the future?"
   ]
  },
  {
   "cell_type": "code",
   "execution_count": 92,
   "id": "8c924a96",
   "metadata": {},
   "outputs": [
    {
     "data": {
      "image/png": "[encoded data removed]",
      "text/plain": [
       "<Figure size 432x288 with 1 Axes>"
      ]
     },
     "metadata": {
      "needs_background": "light"
     },
     "output_type": "display_data"
    }
   ],
   "source": [
    "df_showed_up['daysbetween'].hist(color=['blue'])\n",
    "df_not_showed_up['daysbetween'].hist(color=['red'])\n",
    "plt.ylabel('Amount of Appointments')\n",
    "plt.xlabel('Days Between Scheduling Date and Appointment Date')\n",
    "plt.title('Patients Showing Up According to Days Between Scheduling and Appointment')\n",
    "plt.legend(['Showed Up', 'No Show']);"
   ]
  },
  {
   "cell_type": "markdown",
   "id": "8b0607c4",
   "metadata": {},
   "source": [
    "We see that most of the appointments are close to the day of them being scheduled. But we need to see the proportions of each bin."
   ]
  },
  {
   "cell_type": "code",
   "execution_count": 93,
   "id": "a8b3f95e",
   "metadata": {},
   "outputs": [
    {
     "data": {
      "text/html": [
       "<div>\n",
       "<style scoped>\n",
       "    .dataframe tbody tr th:only-of-type {\n",
       "        vertical-align: middle;\n",
       "    }\n",
       "\n",
       "    .dataframe tbody tr th {\n",
       "        vertical-align: top;\n",
       "    }\n",
       "\n",
       "    .dataframe thead th {\n",
       "        text-align: right;\n",
       "    }\n",
       "</style>\n",
       "<table border=\"1\" class=\"dataframe\">\n",
       "  <thead>\n",
       "    <tr style=\"text-align: right;\">\n",
       "      <th></th>\n",
       "      <th>count</th>\n",
       "      <th>mean</th>\n",
       "      <th>std</th>\n",
       "      <th>min</th>\n",
       "      <th>25%</th>\n",
       "      <th>50%</th>\n",
       "      <th>75%</th>\n",
       "      <th>max</th>\n",
       "    </tr>\n",
       "    <tr>\n",
       "      <th>showed_up</th>\n",
       "      <th></th>\n",
       "      <th></th>\n",
       "      <th></th>\n",
       "      <th></th>\n",
       "      <th></th>\n",
       "      <th></th>\n",
       "      <th></th>\n",
       "      <th></th>\n",
       "    </tr>\n",
       "  </thead>\n",
       "  <tbody>\n",
       "    <tr>\n",
       "      <th>No</th>\n",
       "      <td>22273.0</td>\n",
       "      <td>15.834778</td>\n",
       "      <td>16.600478</td>\n",
       "      <td>0.0</td>\n",
       "      <td>4.0</td>\n",
       "      <td>11.0</td>\n",
       "      <td>23.0</td>\n",
       "      <td>179.0</td>\n",
       "    </tr>\n",
       "    <tr>\n",
       "      <th>Yes</th>\n",
       "      <td>88049.0</td>\n",
       "      <td>8.758986</td>\n",
       "      <td>14.556123</td>\n",
       "      <td>0.0</td>\n",
       "      <td>0.0</td>\n",
       "      <td>2.0</td>\n",
       "      <td>12.0</td>\n",
       "      <td>179.0</td>\n",
       "    </tr>\n",
       "  </tbody>\n",
       "</table>\n",
       "</div>"
      ],
      "text/plain": [
       "             count       mean        std  min  25%   50%   75%    max\n",
       "showed_up                                                            \n",
       "No         22273.0  15.834778  16.600478  0.0  4.0  11.0  23.0  179.0\n",
       "Yes        88049.0   8.758986  14.556123  0.0  0.0   2.0  12.0  179.0"
      ]
     },
     "execution_count": 93,
     "metadata": {},
     "output_type": "execute_result"
    }
   ],
   "source": [
    "df.groupby('showed_up')['daysbetween'].describe()"
   ]
  },
  {
   "cell_type": "code",
   "execution_count": 94,
   "id": "832f1d7c",
   "metadata": {},
   "outputs": [],
   "source": [
    "bin_edges = [ 0, 7, 14, 30, 179 ]\n",
    "bin_names = ['0-7 days', '8-14 days', '15-30 days', '31-179 days']\n",
    "df['periodsdaysbetween'] = pd.cut(df['daysbetween'], bin_edges, labels=bin_names, include_lowest=True , right=True)"
   ]
  },
  {
   "cell_type": "markdown",
   "id": "82eb32c8",
   "metadata": {},
   "source": [
    "We separate the appointments into periods, and then we create a bar chart with the percentages of people showing up and *not* showing up."
   ]
  },
  {
   "cell_type": "code",
   "execution_count": 95,
   "id": "de27a11b",
   "metadata": {},
   "outputs": [
    {
     "data": {
      "text/plain": [
       "0-7 days       61065\n",
       "15-30 days     11689\n",
       "8-14 days       8346\n",
       "31-179 days     6949\n",
       "Name: periodsdaysbetween, dtype: int64"
      ]
     },
     "execution_count": 95,
     "metadata": {},
     "output_type": "execute_result"
    }
   ],
   "source": [
    "df_showed_up = df.query('showed_up == \"Yes\"')\n",
    "show_daysbetween = df_showed_up['periodsdaysbetween'].value_counts()\n",
    "show_daysbetween"
   ]
  },
  {
   "cell_type": "code",
   "execution_count": 96,
   "id": "d621dc31",
   "metadata": {},
   "outputs": [
    {
     "data": {
      "text/plain": [
       "0-7 days       9543\n",
       "15-30 days     5650\n",
       "8-14 days      3662\n",
       "31-179 days    3418\n",
       "Name: periodsdaysbetween, dtype: int64"
      ]
     },
     "execution_count": 96,
     "metadata": {},
     "output_type": "execute_result"
    }
   ],
   "source": [
    "df_not_showed_up = df.query('showed_up == \"No\"')\n",
    "no_show_daysbetween = df_not_showed_up['periodsdaysbetween'].value_counts()\n",
    "no_show_daysbetween"
   ]
  },
  {
   "cell_type": "code",
   "execution_count": 97,
   "id": "c745159d",
   "metadata": {},
   "outputs": [],
   "source": [
    "percent_show_daysbetween = []\n",
    "percent_no_show_daysbetween = []\n",
    "for period in list(df['periodsdaysbetween'].value_counts().index):\n",
    "     show_period = show_daysbetween[period]\n",
    "     noshow_period = no_show_daysbetween[period]\n",
    "     percent_show_daysbetween.append(show_period / (show_period + noshow_period) * 100)\n",
    "     percent_no_show_daysbetween.append(noshow_period / (show_period + noshow_period)  * 100)\n",
    "     "
   ]
  },
  {
   "cell_type": "code",
   "execution_count": 98,
   "id": "31f0d51a",
   "metadata": {},
   "outputs": [
    {
     "data": {
      "text/plain": [
       "['0-7 days', '15-30 days', '8-14 days', '31-179 days']"
      ]
     },
     "execution_count": 98,
     "metadata": {},
     "output_type": "execute_result"
    }
   ],
   "source": [
    "list(df['periodsdaysbetween'].value_counts().index)"
   ]
  },
  {
   "cell_type": "code",
   "execution_count": 99,
   "id": "b71dec7e",
   "metadata": {},
   "outputs": [
    {
     "data": {
      "text/plain": [
       "[86.4845343303875, 67.41449910606147, 69.50366422385076, 67.02999903540079]"
      ]
     },
     "execution_count": 99,
     "metadata": {},
     "output_type": "execute_result"
    }
   ],
   "source": [
    "percent_show_daysbetween"
   ]
  },
  {
   "cell_type": "code",
   "execution_count": 100,
   "id": "d9d02d87",
   "metadata": {},
   "outputs": [
    {
     "data": {
      "text/plain": [
       "[13.515465669612508, 32.585500893938516, 30.496335776149238, 32.97000096459921]"
      ]
     },
     "execution_count": 100,
     "metadata": {},
     "output_type": "execute_result"
    }
   ],
   "source": [
    "percent_no_show_daysbetween"
   ]
  },
  {
   "cell_type": "code",
   "execution_count": 132,
   "id": "805b0c62",
   "metadata": {},
   "outputs": [
    {
     "data": {
      "image/png": "[encoded data removed]",
      "text/plain": [
       "<Figure size 432x288 with 1 Axes>"
      ]
     },
     "metadata": {
      "needs_background": "light"
     },
     "output_type": "display_data"
    }
   ],
   "source": [
    "ind_x = np.array([0, 2, 1, 3])  # the x locations for the groups\n",
    "width_bars = 0.35       # the width of the bars\n",
    "\n",
    "blue_bars = plt.bar(ind_x, percent_show_daysbetween, width_bars, color='blue', label='Showed Up')\n",
    "orange_bars = plt.bar(ind_x + width_bars, percent_no_show_daysbetween, width_bars, color='red', label='No Show')\n",
    "\n",
    "# title and labels\n",
    "plt.ylabel('Percentage')\n",
    "plt.xlabel('Days Between Appointments')\n",
    "plt.title('Percentage of People Showing Up and Days Between Dates')\n",
    "locations = ind_x + width_bars / 2  # xtick locations\n",
    "labels = ['0-7 days', '15-30 1days', '8-14 days', '31-179 days']  # xtick labels\n",
    "plt.xticks(locations, labels)\n",
    "\n",
    "# legend\n",
    "plt.legend();"
   ]
  },
  {
   "cell_type": "markdown",
   "id": "6d9b6c3e",
   "metadata": {},
   "source": [
    "When we isolate the percentages of each period we see that in the \"0-7 days\" period 86.48% show up for their appointment, and from 8 to 179 days between scheduling the appointment people showed up around 68% on average, which is an 18% drop in attendance. "
   ]
  },
  {
   "cell_type": "markdown",
   "id": "706c77f4",
   "metadata": {},
   "source": [
    "### Research Question: Do hypertension, diabetes, or alcoholism influence whether the patient shows up to the appointment?"
   ]
  },
  {
   "cell_type": "markdown",
   "id": "099a7c5a",
   "metadata": {},
   "source": [
    "The variables to analyze are very similar so we will create functions to automatically calculate and plot the data of each variable. "
   ]
  },
  {
   "cell_type": "code",
   "execution_count": 102,
   "id": "c6a03885",
   "metadata": {},
   "outputs": [],
   "source": [
    "# Percentage of people with variable condition\n",
    "def percent_with_condition(df, xVar):\n",
    "    return df.query(f'{xVar} == 1')[xVar].value_counts().div(df.shape[0]).mul(100).round(2)"
   ]
  },
  {
   "cell_type": "code",
   "execution_count": 127,
   "id": "5ec7019d",
   "metadata": {},
   "outputs": [],
   "source": [
    "def group_and_plot(df, xVar, normalize=False):\n",
    "    # Data grouped by hypertension and showed up values counted\n",
    "    if normalize:\n",
    "        grouped = df.groupby([xVar])['showed_up'].value_counts(normalize=normalize).mul(100).round(2)\n",
    "        y_label = 'Percentage'\n",
    "    else:\n",
    "        grouped = df.groupby([xVar])['showed_up'].value_counts(normalize=normalize)\n",
    "        y_label = 'Amount'\n",
    "\n",
    "    grouped.unstack().plot.bar(edgecolor='black', figsize=[14, 6], rot=0, width=0.8, color=['r', 'b']);\n",
    "    labels = [f'No {xVar}'.title(), xVar.title()] # xtick labels\n",
    "    plt.xticks([0,1], labels)\n",
    "\n",
    "    # title and labels\n",
    "    plt.ylabel(y_label)\n",
    "    plt.xlabel(xVar.title())\n",
    "    plt.title(f'{y_label} of Attendance by {xVar.title()} Diagnosis')\n",
    "\n",
    "\n",
    "    table = plt.table(cellText = grouped.unstack().transpose().values,\n",
    "                    rowLabels = [ 'No Show', 'Showed'],\n",
    "                    colLabels = [f'No {xVar}'.title(), xVar.title()],\n",
    "                    rowColours = ['r', 'b'],\n",
    "                    cellLoc = 'center',\n",
    "                    rowLoc = 'center',\n",
    "                    loc = 'bottom',\n",
    "                    bbox = [0, -0.75, 1, 0.5])\n",
    "\n",
    "    table[(1, -1)].get_text().set_color('white')\n",
    "    table[(1, -1)].set_text_props(fontweight='bold')\n",
    "    table[(2, -1)].get_text().set_color('white')\n",
    "    table[(2, -1)].set_text_props(fontweight='bold')"
   ]
  },
  {
   "cell_type": "markdown",
   "id": "26380037",
   "metadata": {},
   "source": [
    "#### Hypertension"
   ]
  },
  {
   "cell_type": "code",
   "execution_count": 104,
   "id": "9ce984bb",
   "metadata": {},
   "outputs": [
    {
     "data": {
      "text/plain": [
       "1    19.68\n",
       "Name: hypertension, dtype: float64"
      ]
     },
     "execution_count": 104,
     "metadata": {},
     "output_type": "execute_result"
    }
   ],
   "source": [
    "# Percentage of people with hypertension\n",
    "percent_with_condition(df, 'hypertension')"
   ]
  },
  {
   "cell_type": "code",
   "execution_count": 125,
   "id": "573d209e",
   "metadata": {},
   "outputs": [
    {
     "data": {
      "image/png": "[encoded data removed]",
      "text/plain": [
       "<Figure size 1008x432 with 1 Axes>"
      ]
     },
     "metadata": {
      "needs_background": "light"
     },
     "output_type": "display_data"
    }
   ],
   "source": [
    "group_and_plot(df, 'hypertension')"
   ]
  },
  {
   "cell_type": "markdown",
   "id": "79872820",
   "metadata": {},
   "source": [
    "According to a [paper published in the National Center for Biotechnology Information PubMed.gov](https://pubmed.ncbi.nlm.nih.gov/23118964/), the prevalence of hypertension in Brazil in the 2000s by the Joint National Committee (JNC) criteria is 28.7% of the population.\n",
    "\n",
    "We visualize in the chart that the number of people with hypertension is much lower than the number of people who don't have the condition, as calculated above, the percentage of people with hypertension in this sample is 19.68%. This sample is not representative of this variable in the population. "
   ]
  },
  {
   "cell_type": "markdown",
   "id": "1e67f423",
   "metadata": {},
   "source": [
    "Now we'll calculate the percentage of attendance for people with hypertension and those without the condition."
   ]
  },
  {
   "cell_type": "code",
   "execution_count": 106,
   "id": "85d92d8b",
   "metadata": {},
   "outputs": [
    {
     "data": {
      "image/png": "[encoded data removed]",
      "text/plain": [
       "<Figure size 1008x432 with 1 Axes>"
      ]
     },
     "metadata": {
      "needs_background": "light"
     },
     "output_type": "display_data"
    }
   ],
   "source": [
    "group_and_plot(df, 'hypertension', True)"
   ]
  },
  {
   "cell_type": "markdown",
   "id": "39126822",
   "metadata": {},
   "source": [
    "We see that people who have hypertension tend to assist their appointment 3.65% more than people who don't have hypertension."
   ]
  },
  {
   "cell_type": "markdown",
   "id": "c8d154ae",
   "metadata": {},
   "source": [
    "#### Diabetes"
   ]
  },
  {
   "cell_type": "code",
   "execution_count": 107,
   "id": "cbda7981",
   "metadata": {},
   "outputs": [
    {
     "data": {
      "text/plain": [
       "1    7.16\n",
       "Name: diabetes, dtype: float64"
      ]
     },
     "execution_count": 107,
     "metadata": {},
     "output_type": "execute_result"
    }
   ],
   "source": [
    "# Percentage of people with hypertension\n",
    "percent_with_condition(df, 'diabetes')"
   ]
  },
  {
   "cell_type": "code",
   "execution_count": 108,
   "id": "071bf831",
   "metadata": {},
   "outputs": [
    {
     "data": {
      "image/png": "[encoded data removed]",
      "text/plain": [
       "<Figure size 1008x432 with 1 Axes>"
      ]
     },
     "metadata": {
      "needs_background": "light"
     },
     "output_type": "display_data"
    }
   ],
   "source": [
    "group_and_plot(df, 'diabetes')"
   ]
  },
  {
   "cell_type": "markdown",
   "id": "685f1c91",
   "metadata": {},
   "source": [
    "The number of people with diabetes is even lower than the number of people with hypertension. Only 7.16% of people in this sample have diabetes. [The percentage of people with diabetes in Brazil according to the World Health Organization is 8.1%](https://cdn.who.int/media/docs/default-source/country-profiles/diabetes/bra_en.pdf?sfvrsn=3956c0c5_46&download=true). It seems that our sample is representative of the population. "
   ]
  },
  {
   "cell_type": "markdown",
   "id": "71478b8d",
   "metadata": {},
   "source": [
    "Now we'll calculate the percentage of attendance for people with diabetes and those without the condition."
   ]
  },
  {
   "cell_type": "code",
   "execution_count": 109,
   "id": "850cd7eb",
   "metadata": {},
   "outputs": [
    {
     "data": {
      "image/png": "[encoded data removed]",
      "text/plain": [
       "<Figure size 1008x432 with 1 Axes>"
      ]
     },
     "metadata": {
      "needs_background": "light"
     },
     "output_type": "display_data"
    }
   ],
   "source": [
    "group_and_plot(df, 'diabetes', True)"
   ]
  },
  {
   "cell_type": "markdown",
   "id": "aa2f142b",
   "metadata": {},
   "source": [
    "We see that people who have diabetes attend 2.36% more than people who don't have diabetes. "
   ]
  },
  {
   "cell_type": "markdown",
   "id": "bb2ddc1e",
   "metadata": {},
   "source": [
    "#### Alcoholism"
   ]
  },
  {
   "cell_type": "code",
   "execution_count": 110,
   "id": "2d1c6a6c",
   "metadata": {},
   "outputs": [
    {
     "data": {
      "text/plain": [
       "1    3.04\n",
       "Name: alcoholism, dtype: float64"
      ]
     },
     "execution_count": 110,
     "metadata": {},
     "output_type": "execute_result"
    }
   ],
   "source": [
    "# Percentage of people with alcoholism\n",
    "percent_with_condition(df, 'alcoholism')"
   ]
  },
  {
   "cell_type": "code",
   "execution_count": 111,
   "id": "ba6d08a2",
   "metadata": {},
   "outputs": [
    {
     "data": {
      "image/png": "[encoded data removed]",
      "text/plain": [
       "<Figure size 1008x432 with 1 Axes>"
      ]
     },
     "metadata": {
      "needs_background": "light"
     },
     "output_type": "display_data"
    }
   ],
   "source": [
    "group_and_plot(df, 'alcoholism')"
   ]
  },
  {
   "cell_type": "markdown",
   "id": "8beabe66",
   "metadata": {},
   "source": [
    "According to the [estimates of the World Health Organization for Brazil in 2016](https://cdn.who.int/media/docs/default-source/country-profiles/substances-abuse/bra.pdf?sfvrsn=d3fdd0e9_3&download=true), alcohol dependence is part of 2.3% of the population. We don't have details of how our dataset categorizes alcoholism, but 3.04% of our sample has this condition and is very close to the calculation of alcohol dependence by the WHO. "
   ]
  },
  {
   "cell_type": "code",
   "execution_count": 112,
   "id": "6b8ea953",
   "metadata": {},
   "outputs": [
    {
     "data": {
      "image/png": "[encoded data removed]",
      "text/plain": [
       "<Figure size 1008x432 with 1 Axes>"
      ]
     },
     "metadata": {
      "needs_background": "light"
     },
     "output_type": "display_data"
    }
   ],
   "source": [
    "group_and_plot(df, 'alcoholism', True)"
   ]
  },
  {
   "cell_type": "markdown",
   "id": "1923bd6f",
   "metadata": {},
   "source": [
    "We can see that there's virtually no difference in the percentage of people who have alcoholism and their attendance."
   ]
  },
  {
   "cell_type": "markdown",
   "id": "5cb61446",
   "metadata": {},
   "source": [
    "### Research Question: Does being handicapped influence whether the patient shows up to the appointment?"
   ]
  },
  {
   "cell_type": "code",
   "execution_count": 113,
   "id": "3af7ad2f",
   "metadata": {},
   "outputs": [
    {
     "data": {
      "text/plain": [
       "1    1.85\n",
       "Name: handicap, dtype: float64"
      ]
     },
     "execution_count": 113,
     "metadata": {},
     "output_type": "execute_result"
    }
   ],
   "source": [
    "# Percentage of people handicapped\n",
    "percent_with_condition(df, 'handicap')"
   ]
  },
  {
   "cell_type": "code",
   "execution_count": 114,
   "id": "3fcf5758",
   "metadata": {},
   "outputs": [
    {
     "data": {
      "image/png": "[encoded data removed]",
      "text/plain": [
       "<Figure size 1008x432 with 1 Axes>"
      ]
     },
     "metadata": {
      "needs_background": "light"
     },
     "output_type": "display_data"
    }
   ],
   "source": [
    "group_and_plot(df, 'handicap')"
   ]
  },
  {
   "cell_type": "markdown",
   "id": "1eda2522",
   "metadata": {},
   "source": [
    "According to [a United Nations Fact Sheet about disability](https://www.un.org/development/desa/disabilities/resources/factsheet-on-persons-with-disabilities/disability-and-employment.html), in the year 2000, 24.5 million people had some type of disability out of the 211.1 million people in its population, which represents the 11.60%. If we compare that number to the percentage of people with a disability in our sample, 1.85%, we see that there's a significant difference. It seems that our sample is not representative of the population. "
   ]
  },
  {
   "cell_type": "code",
   "execution_count": 115,
   "id": "6a6d8f32",
   "metadata": {},
   "outputs": [
    {
     "data": {
      "image/png": "[encoded data removed]",
      "text/plain": [
       "<Figure size 1008x432 with 1 Axes>"
      ]
     },
     "metadata": {
      "needs_background": "light"
     },
     "output_type": "display_data"
    }
   ],
   "source": [
    "group_and_plot(df, 'handicap', True)"
   ]
  },
  {
   "cell_type": "markdown",
   "id": "a2fddc44",
   "metadata": {},
   "source": [
    "The number of people handicapped is very low, but we can see there's a 2.39% more attendance from people handicapped compared to people who are not handicapped. "
   ]
  },
  {
   "cell_type": "markdown",
   "id": "37a9750f",
   "metadata": {},
   "source": [
    "### Research Question: Does being enrolled in Bolsa Familia correlate to patients showing up to the appointment?"
   ]
  },
  {
   "cell_type": "code",
   "execution_count": 116,
   "id": "22055b76",
   "metadata": {},
   "outputs": [
    {
     "data": {
      "text/plain": [
       "1    9.83\n",
       "Name: scholarship, dtype: float64"
      ]
     },
     "execution_count": 116,
     "metadata": {},
     "output_type": "execute_result"
    }
   ],
   "source": [
    "# Percentage of people enrolled in the program Bolsa Familia\n",
    "percent_with_condition(df, 'scholarship')"
   ]
  },
  {
   "cell_type": "code",
   "execution_count": 117,
   "id": "25650721",
   "metadata": {},
   "outputs": [
    {
     "data": {
      "image/png": "[encoded data removed]",
      "text/plain": [
       "<Figure size 1008x432 with 1 Axes>"
      ]
     },
     "metadata": {
      "needs_background": "light"
     },
     "output_type": "display_data"
    }
   ],
   "source": [
    "group_and_plot(df, 'scholarship')"
   ]
  },
  {
   "cell_type": "markdown",
   "id": "e1f9a5a3",
   "metadata": {},
   "source": [
    "In this chart we can see that the people enrolled in the program Bolsa Familia is only 9.83%. "
   ]
  },
  {
   "cell_type": "code",
   "execution_count": 118,
   "id": "cd2672d1",
   "metadata": {},
   "outputs": [
    {
     "data": {
      "image/png": "[encoded data removed]",
      "text/plain": [
       "<Figure size 1008x432 with 1 Axes>"
      ]
     },
     "metadata": {
      "needs_background": "light"
     },
     "output_type": "display_data"
    }
   ],
   "source": [
    "group_and_plot(df, 'scholarship', True)"
   ]
  },
  {
   "cell_type": "markdown",
   "id": "27af5933",
   "metadata": {},
   "source": [
    "There are more people who **do not** have the scholarship Bolsa Familia, and we can see that people who have this scholarship miss their appointments by 3.97% more."
   ]
  },
  {
   "cell_type": "markdown",
   "id": "9f29c44f",
   "metadata": {},
   "source": [
    "### Research Question: Does being alerted via SMS increases the chances of the patient showing up to the appointment?"
   ]
  },
  {
   "cell_type": "code",
   "execution_count": 119,
   "id": "53c734e7",
   "metadata": {},
   "outputs": [
    {
     "data": {
      "text/plain": [
       "1    32.12\n",
       "Name: sms_received, dtype: float64"
      ]
     },
     "execution_count": 119,
     "metadata": {},
     "output_type": "execute_result"
    }
   ],
   "source": [
    "# Percentage of people alerted via SMS\n",
    "percent_with_condition(df, 'sms_received')"
   ]
  },
  {
   "cell_type": "code",
   "execution_count": 120,
   "id": "fe129a78",
   "metadata": {},
   "outputs": [
    {
     "data": {
      "image/png": "[encoded data removed]",
      "text/plain": [
       "<Figure size 1008x432 with 1 Axes>"
      ]
     },
     "metadata": {
      "needs_background": "light"
     },
     "output_type": "display_data"
    }
   ],
   "source": [
    "group_and_plot(df, 'sms_received')"
   ]
  },
  {
   "cell_type": "markdown",
   "id": "1ec14a6a",
   "metadata": {},
   "source": [
    "We can visualize in the chart that only 32.12% of people were alerted via SMS for their appointment. "
   ]
  },
  {
   "cell_type": "code",
   "execution_count": 121,
   "id": "ea2c6e87",
   "metadata": {},
   "outputs": [
    {
     "data": {
      "image/png": "[encoded data removed]",
      "text/plain": [
       "<Figure size 1008x432 with 1 Axes>"
      ]
     },
     "metadata": {
      "needs_background": "light"
     },
     "output_type": "display_data"
    }
   ],
   "source": [
    "group_and_plot(df, 'sms_received', True)"
   ]
  },
  {
   "cell_type": "code",
   "execution_count": null,
   "id": "ea26a279",
   "metadata": {},
   "outputs": [
    {
     "data": {
      "image/png": "[encoded data removed]",
      "text/plain": [
       "<Figure size 432x288 with 1 Axes>"
      ]
     },
     "metadata": {
      "needs_background": "light"
     },
     "output_type": "display_data"
    }
   ],
   "source": [
    "ind_x = np.arange(len(percent_show_sms))  # the x locations for the groups\n",
    "width_bars = 0.35       # the width of the bars\n",
    "\n",
    "blue_bars = plt.bar(ind_x, percent_show_sms, width_bars, color='blue', label='Showed Up')\n",
    "orange_bars = plt.bar(ind_x + width_bars, percent_no_show_sms, width_bars, color='red', label='No Show')\n",
    "\n",
    "# title and labels\n",
    "plt.ylabel('Percentage')\n",
    "plt.xlabel('SMS Received')\n",
    "plt.title('Percentage of Attendance After SMS Alert')\n",
    "locations = ind_x + width_bars / 2  # xtick locations\n",
    "labels = ['No SMS', 'Alerted']  # xtick labels\n",
    "plt.xticks(locations, labels)\n",
    "\n",
    "# legend\n",
    "plt.legend();"
   ]
  },
  {
   "cell_type": "code",
   "execution_count": null,
   "id": "4efe8b4f",
   "metadata": {},
   "outputs": [
    {
     "data": {
      "text/plain": [
       "0    80.200846\n",
       "1    76.233515\n",
       "dtype: float64"
      ]
     },
     "execution_count": 312,
     "metadata": {},
     "output_type": "execute_result"
    }
   ],
   "source": [
    "# Percentage of people that showed up who were or not alerted via SMS\n",
    "percent_show_scholarship"
   ]
  },
  {
   "cell_type": "code",
   "execution_count": null,
   "id": "5f309f59",
   "metadata": {},
   "outputs": [
    {
     "data": {
      "text/plain": [
       "0    19.799154\n",
       "1    23.766485\n",
       "dtype: float64"
      ]
     },
     "execution_count": 313,
     "metadata": {},
     "output_type": "execute_result"
    }
   ],
   "source": [
    "# Percentage of people that did not show up who were or not alerted via SMS\n",
    "percent_no_show_scholarship"
   ]
  },
  {
   "cell_type": "markdown",
   "id": "8d7bc1db",
   "metadata": {},
   "source": [
    "The analysis shows that people who were alerted via SMS missed their appointments 3.97% more compared to people who were not alerted. "
   ]
  },
  {
   "cell_type": "markdown",
   "id": "0363a774",
   "metadata": {},
   "source": [
    "<a id='conclusions'></a>\n",
    "## Conclusions"
   ]
  },
  {
   "cell_type": "markdown",
   "id": "57b2686f",
   "metadata": {},
   "source": [
    "- The amount of appointments made by women is approximately double of the amount of appointments made by men. But despite that, roughly half the women and half the men did not show up to their appointment. We cannot predict if a person will not show up based on gender.\n",
    "\n",
    "- Babies and young children have more appointments than any other age group and they attend their appointments more in comparison to older people. We could say if the patient is very young there is a greater chance of showing up.\n",
    "\n",
    "- People ages 10 - 25 and ages 41 - 48 schedule fewer appointments than the rest, but they tend to miss their appointments more. We also see that people ages 50 - 64 schedule more appointments and attend to them more than they miss compared to younger people, and there's a greater chance of them showing up when the age is closer to 64. \n",
    "\n",
    "- When the time between scheduling and the actual appointment is shorter people attend more. The period between 0 and 7 days has an attendance rate of 86.48%. If we schedule the appointment farther than 8 days the attendance rate decreases to 68% on average. We can claim that if the appointment is within one week of scheduling the greater the chance the patient will show up. \n",
    "\n",
    "- The data shows that people with chronic diagnoses like hypertension, diabetes, or handicap tend to show up to the appointments by 2 or 3 percentile points more than people who do not have these, except for alcoholism where there’s virtually no difference if a person is alcoholic or not. We can say that there's a greater chance of people showing up if they have a chronic disease but it's not significant. \n",
    "\n",
    "- The majority of people, around 90%, are not enrolled in the Bolsa Familia scholarship, but people who have this insurance miss their appointments by 3.97% more. \n",
    "\n",
    "- Being alerted via SMS about their appointments did not show a greater attendance, in fact, people who did not receive a notification attended by 3.97% more. There's no benefit in alerting the patient via SMS, although we don't how in advance they were notified with the data that we have. Calling them one day before their appointment might be a better solution, but we lack that information to say for certain, we would need to collect it. "
   ]
  },
  {
   "cell_type": "markdown",
   "id": "2ee28052",
   "metadata": {},
   "source": [
    "## Resources used to make this analysis"
   ]
  },
  {
   "cell_type": "markdown",
   "id": "d6288fdc",
   "metadata": {},
   "source": [
    "### Websites\n",
    "- https://docs.python.org/3/tutorial/\n",
    "- https://www.geeksforgeeks.org/\n",
    "- https://stackoverflow.com/\n",
    "- https://www.w3schools.com/\n",
    "- https://www.datasciencemadesimple.com/\n",
    "- https://knowledge.udacity.com/"
   ]
  }
 ],
 "metadata": {
  "interpreter": {
   "hash": "40d3a090f54c6569ab1632332b64b2c03c39dcf918b08424e98f38b5ae0af88f"
  },
  "kernelspec": {
   "display_name": "Python 3.9.7 ('base')",
   "language": "python",
   "name": "python3"
  },
  "language_info": {
   "codemirror_mode": {
    "name": "ipython",
    "version": 3
   },
   "file_extension": ".py",
   "mimetype": "text/x-python",
   "name": "python",
   "nbconvert_exporter": "python",
   "pygments_lexer": "ipython3",
   "version": "3.9.7"
  }
 },
 "nbformat": 4,
 "nbformat_minor": 5
}
