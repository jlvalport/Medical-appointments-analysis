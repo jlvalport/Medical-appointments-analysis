{
 "cells": [
  {
   "cell_type": "markdown",
   "id": "60c92e90",
   "metadata": {},
   "source": [
    "# Project: Investigate a Dataset: Medical Appointment No Shows\n",
    "\n",
    "\n",
    "\n",
    "## Table of Contents\n",
    "- [Introduction](#introduction)\n",
    "- [Data Wrangling](#data_wrangling)\n",
    "- [Exploratory Data Analysis](#eda)\n",
    "- [Conclusions](#conclusions)"
   ]
  },
  {
   "cell_type": "markdown",
   "id": "5694981f",
   "metadata": {},
   "source": [
    "<a id='introduction'></a>\n",
    "## Introduction\n",
    "\n",
    "### Dataset Description \n",
    "This dataset collects information from 100k medical appointments in Brazil and is focused on the question of whether or not patients show up for their appointment. A number of characteristics about the patient are included in each row.\n",
    "\n",
    "Some columns are described here:\n",
    "- \"ScheduledDay\" tells us on what day the patient set up their appointment.\n",
    "- \"Neighborhood\" indicates the location of the hospital.\n",
    "- \"Scholarship\" indicates whether or not the patient is enrolled in Brasilian welfare program [Bolsa Família](https://en.wikipedia.org/wiki/Bolsa_Fam%C3%ADlia).\n",
    "- \"No-show\" indicates \"Yes\" if the patient did ***not*** show up and \"No\" if the patient showed up.\n",
    "\n",
    "<a id='q_a'></a>\n",
    "### Question(s) for Analysis\n",
    "We are going to explore the data and look for answers to the following questions:\n",
    "- Does the patient's age determine the likelihood of showing up to the appointment?\n",
    "- Does the patient gender tell us if a patient is likely to show up to the appointment?\n",
    "- Does it reduces the chances of the patient showing up if the appointment is scheduled far into the future?\n",
    "- Do hypertension, diabetes, or alcoholism influence whether the patient shows up to the appointment?\n",
    "- Does being handicapped influence whether the patient shows up to the appointment?\n",
    "- Does being enrolled in Bolsa Familia correlate to patients showing up to the appointment?\n",
    "- Does being alerted via SMS increases the chances of the patient showing up to the appointment?"
   ]
  },
  {
   "cell_type": "markdown",
   "id": "9328a1f8",
   "metadata": {},
   "source": [
    "<a id='data_wrangling'></a>\n",
    "## Data Wrangling\n",
    "\n",
    "### General Properties"
   ]
  },
  {
   "cell_type": "code",
   "execution_count": 161,
   "id": "b43dfc93",
   "metadata": {},
   "outputs": [],
   "source": [
    "# Setting up the packages to use in this analysis\n",
    "import numpy as np\n",
    "import pandas as pd\n",
    "import matplotlib.pyplot as plt\n",
    "import seaborn as sns\n",
    "%matplotlib inline"
   ]
  },
  {
   "cell_type": "code",
   "execution_count": 162,
   "id": "e7f01e1f",
   "metadata": {},
   "outputs": [
    {
     "data": {
      "text/html": [
       "<div>\n",
       "<style scoped>\n",
       "    .dataframe tbody tr th:only-of-type {\n",
       "        vertical-align: middle;\n",
       "    }\n",
       "\n",
       "    .dataframe tbody tr th {\n",
       "        vertical-align: top;\n",
       "    }\n",
       "\n",
       "    .dataframe thead th {\n",
       "        text-align: right;\n",
       "    }\n",
       "</style>\n",
       "<table border=\"1\" class=\"dataframe\">\n",
       "  <thead>\n",
       "    <tr style=\"text-align: right;\">\n",
       "      <th></th>\n",
       "      <th>PatientId</th>\n",
       "      <th>AppointmentID</th>\n",
       "      <th>Gender</th>\n",
       "      <th>ScheduledDay</th>\n",
       "      <th>AppointmentDay</th>\n",
       "      <th>Age</th>\n",
       "      <th>Neighbourhood</th>\n",
       "      <th>Scholarship</th>\n",
       "      <th>Hipertension</th>\n",
       "      <th>Diabetes</th>\n",
       "      <th>Alcoholism</th>\n",
       "      <th>Handcap</th>\n",
       "      <th>SMS_received</th>\n",
       "      <th>No-show</th>\n",
       "    </tr>\n",
       "  </thead>\n",
       "  <tbody>\n",
       "    <tr>\n",
       "      <th>0</th>\n",
       "      <td>2.987250e+13</td>\n",
       "      <td>5642903</td>\n",
       "      <td>F</td>\n",
       "      <td>2016-04-29T18:38:08Z</td>\n",
       "      <td>2016-04-29T00:00:00Z</td>\n",
       "      <td>62</td>\n",
       "      <td>JARDIM DA PENHA</td>\n",
       "      <td>0</td>\n",
       "      <td>1</td>\n",
       "      <td>0</td>\n",
       "      <td>0</td>\n",
       "      <td>0</td>\n",
       "      <td>0</td>\n",
       "      <td>No</td>\n",
       "    </tr>\n",
       "    <tr>\n",
       "      <th>1</th>\n",
       "      <td>5.589978e+14</td>\n",
       "      <td>5642503</td>\n",
       "      <td>M</td>\n",
       "      <td>2016-04-29T16:08:27Z</td>\n",
       "      <td>2016-04-29T00:00:00Z</td>\n",
       "      <td>56</td>\n",
       "      <td>JARDIM DA PENHA</td>\n",
       "      <td>0</td>\n",
       "      <td>0</td>\n",
       "      <td>0</td>\n",
       "      <td>0</td>\n",
       "      <td>0</td>\n",
       "      <td>0</td>\n",
       "      <td>No</td>\n",
       "    </tr>\n",
       "    <tr>\n",
       "      <th>2</th>\n",
       "      <td>4.262962e+12</td>\n",
       "      <td>5642549</td>\n",
       "      <td>F</td>\n",
       "      <td>2016-04-29T16:19:04Z</td>\n",
       "      <td>2016-04-29T00:00:00Z</td>\n",
       "      <td>62</td>\n",
       "      <td>MATA DA PRAIA</td>\n",
       "      <td>0</td>\n",
       "      <td>0</td>\n",
       "      <td>0</td>\n",
       "      <td>0</td>\n",
       "      <td>0</td>\n",
       "      <td>0</td>\n",
       "      <td>No</td>\n",
       "    </tr>\n",
       "    <tr>\n",
       "      <th>3</th>\n",
       "      <td>8.679512e+11</td>\n",
       "      <td>5642828</td>\n",
       "      <td>F</td>\n",
       "      <td>2016-04-29T17:29:31Z</td>\n",
       "      <td>2016-04-29T00:00:00Z</td>\n",
       "      <td>8</td>\n",
       "      <td>PONTAL DE CAMBURI</td>\n",
       "      <td>0</td>\n",
       "      <td>0</td>\n",
       "      <td>0</td>\n",
       "      <td>0</td>\n",
       "      <td>0</td>\n",
       "      <td>0</td>\n",
       "      <td>No</td>\n",
       "    </tr>\n",
       "    <tr>\n",
       "      <th>4</th>\n",
       "      <td>8.841186e+12</td>\n",
       "      <td>5642494</td>\n",
       "      <td>F</td>\n",
       "      <td>2016-04-29T16:07:23Z</td>\n",
       "      <td>2016-04-29T00:00:00Z</td>\n",
       "      <td>56</td>\n",
       "      <td>JARDIM DA PENHA</td>\n",
       "      <td>0</td>\n",
       "      <td>1</td>\n",
       "      <td>1</td>\n",
       "      <td>0</td>\n",
       "      <td>0</td>\n",
       "      <td>0</td>\n",
       "      <td>No</td>\n",
       "    </tr>\n",
       "  </tbody>\n",
       "</table>\n",
       "</div>"
      ],
      "text/plain": [
       "      PatientId  AppointmentID Gender          ScheduledDay  \\\n",
       "0  2.987250e+13        5642903      F  2016-04-29T18:38:08Z   \n",
       "1  5.589978e+14        5642503      M  2016-04-29T16:08:27Z   \n",
       "2  4.262962e+12        5642549      F  2016-04-29T16:19:04Z   \n",
       "3  8.679512e+11        5642828      F  2016-04-29T17:29:31Z   \n",
       "4  8.841186e+12        5642494      F  2016-04-29T16:07:23Z   \n",
       "\n",
       "         AppointmentDay  Age      Neighbourhood  Scholarship  Hipertension  \\\n",
       "0  2016-04-29T00:00:00Z   62    JARDIM DA PENHA            0             1   \n",
       "1  2016-04-29T00:00:00Z   56    JARDIM DA PENHA            0             0   \n",
       "2  2016-04-29T00:00:00Z   62      MATA DA PRAIA            0             0   \n",
       "3  2016-04-29T00:00:00Z    8  PONTAL DE CAMBURI            0             0   \n",
       "4  2016-04-29T00:00:00Z   56    JARDIM DA PENHA            0             1   \n",
       "\n",
       "   Diabetes  Alcoholism  Handcap  SMS_received No-show  \n",
       "0         0           0        0             0      No  \n",
       "1         0           0        0             0      No  \n",
       "2         0           0        0             0      No  \n",
       "3         0           0        0             0      No  \n",
       "4         1           0        0             0      No  "
      ]
     },
     "execution_count": 162,
     "metadata": {},
     "output_type": "execute_result"
    }
   ],
   "source": [
    "# Importing the dataset CSV file\n",
    "df = pd.read_csv('noshowappointments-kagglev2-may-2016.csv')\n",
    "df.head()"
   ]
  },
  {
   "cell_type": "code",
   "execution_count": 163,
   "id": "cab4bf95",
   "metadata": {},
   "outputs": [
    {
     "name": "stdout",
     "output_type": "stream",
     "text": [
      "<class 'pandas.core.frame.DataFrame'>\n",
      "RangeIndex: 110527 entries, 0 to 110526\n",
      "Data columns (total 14 columns):\n",
      " #   Column          Non-Null Count   Dtype  \n",
      "---  ------          --------------   -----  \n",
      " 0   PatientId       110527 non-null  float64\n",
      " 1   AppointmentID   110527 non-null  int64  \n",
      " 2   Gender          110527 non-null  object \n",
      " 3   ScheduledDay    110527 non-null  object \n",
      " 4   AppointmentDay  110527 non-null  object \n",
      " 5   Age             110527 non-null  int64  \n",
      " 6   Neighbourhood   110527 non-null  object \n",
      " 7   Scholarship     110527 non-null  int64  \n",
      " 8   Hipertension    110527 non-null  int64  \n",
      " 9   Diabetes        110527 non-null  int64  \n",
      " 10  Alcoholism      110527 non-null  int64  \n",
      " 11  Handcap         110527 non-null  int64  \n",
      " 12  SMS_received    110527 non-null  int64  \n",
      " 13  No-show         110527 non-null  object \n",
      "dtypes: float64(1), int64(8), object(5)\n",
      "memory usage: 11.8+ MB\n"
     ]
    }
   ],
   "source": [
    "df.info()"
   ]
  },
  {
   "cell_type": "markdown",
   "id": "a1a9cf14",
   "metadata": {},
   "source": [
    "There are 110527 rows and 14 columns of data. \n",
    "The dataset does *not* have null values. \n",
    "The data types of the dates is object."
   ]
  },
  {
   "cell_type": "code",
   "execution_count": 164,
   "id": "f94449a2",
   "metadata": {},
   "outputs": [
    {
     "data": {
      "text/plain": [
       "str"
      ]
     },
     "execution_count": 164,
     "metadata": {},
     "output_type": "execute_result"
    }
   ],
   "source": [
    "type(df['ScheduledDay'][0])"
   ]
  },
  {
   "cell_type": "code",
   "execution_count": 165,
   "id": "aaf2d344",
   "metadata": {},
   "outputs": [
    {
     "data": {
      "text/plain": [
       "str"
      ]
     },
     "execution_count": 165,
     "metadata": {},
     "output_type": "execute_result"
    }
   ],
   "source": [
    "type(df['AppointmentDay'][0])"
   ]
  },
  {
   "cell_type": "markdown",
   "id": "c2535fca",
   "metadata": {},
   "source": [
    "Both data types of the dates are strings, we'll need to convert those to the `datetime` data type."
   ]
  },
  {
   "cell_type": "code",
   "execution_count": 166,
   "id": "2546090b",
   "metadata": {},
   "outputs": [
    {
     "data": {
      "text/html": [
       "<div>\n",
       "<style scoped>\n",
       "    .dataframe tbody tr th:only-of-type {\n",
       "        vertical-align: middle;\n",
       "    }\n",
       "\n",
       "    .dataframe tbody tr th {\n",
       "        vertical-align: top;\n",
       "    }\n",
       "\n",
       "    .dataframe thead th {\n",
       "        text-align: right;\n",
       "    }\n",
       "</style>\n",
       "<table border=\"1\" class=\"dataframe\">\n",
       "  <thead>\n",
       "    <tr style=\"text-align: right;\">\n",
       "      <th></th>\n",
       "      <th>PatientId</th>\n",
       "      <th>AppointmentID</th>\n",
       "      <th>Age</th>\n",
       "      <th>Scholarship</th>\n",
       "      <th>Hipertension</th>\n",
       "      <th>Diabetes</th>\n",
       "      <th>Alcoholism</th>\n",
       "      <th>Handcap</th>\n",
       "      <th>SMS_received</th>\n",
       "    </tr>\n",
       "  </thead>\n",
       "  <tbody>\n",
       "    <tr>\n",
       "      <th>count</th>\n",
       "      <td>1.105270e+05</td>\n",
       "      <td>1.105270e+05</td>\n",
       "      <td>110527.000000</td>\n",
       "      <td>110527.000000</td>\n",
       "      <td>110527.000000</td>\n",
       "      <td>110527.000000</td>\n",
       "      <td>110527.000000</td>\n",
       "      <td>110527.000000</td>\n",
       "      <td>110527.000000</td>\n",
       "    </tr>\n",
       "    <tr>\n",
       "      <th>mean</th>\n",
       "      <td>1.474963e+14</td>\n",
       "      <td>5.675305e+06</td>\n",
       "      <td>37.088874</td>\n",
       "      <td>0.098266</td>\n",
       "      <td>0.197246</td>\n",
       "      <td>0.071865</td>\n",
       "      <td>0.030400</td>\n",
       "      <td>0.022248</td>\n",
       "      <td>0.321026</td>\n",
       "    </tr>\n",
       "    <tr>\n",
       "      <th>std</th>\n",
       "      <td>2.560949e+14</td>\n",
       "      <td>7.129575e+04</td>\n",
       "      <td>23.110205</td>\n",
       "      <td>0.297675</td>\n",
       "      <td>0.397921</td>\n",
       "      <td>0.258265</td>\n",
       "      <td>0.171686</td>\n",
       "      <td>0.161543</td>\n",
       "      <td>0.466873</td>\n",
       "    </tr>\n",
       "    <tr>\n",
       "      <th>min</th>\n",
       "      <td>3.921784e+04</td>\n",
       "      <td>5.030230e+06</td>\n",
       "      <td>-1.000000</td>\n",
       "      <td>0.000000</td>\n",
       "      <td>0.000000</td>\n",
       "      <td>0.000000</td>\n",
       "      <td>0.000000</td>\n",
       "      <td>0.000000</td>\n",
       "      <td>0.000000</td>\n",
       "    </tr>\n",
       "    <tr>\n",
       "      <th>25%</th>\n",
       "      <td>4.172614e+12</td>\n",
       "      <td>5.640286e+06</td>\n",
       "      <td>18.000000</td>\n",
       "      <td>0.000000</td>\n",
       "      <td>0.000000</td>\n",
       "      <td>0.000000</td>\n",
       "      <td>0.000000</td>\n",
       "      <td>0.000000</td>\n",
       "      <td>0.000000</td>\n",
       "    </tr>\n",
       "    <tr>\n",
       "      <th>50%</th>\n",
       "      <td>3.173184e+13</td>\n",
       "      <td>5.680573e+06</td>\n",
       "      <td>37.000000</td>\n",
       "      <td>0.000000</td>\n",
       "      <td>0.000000</td>\n",
       "      <td>0.000000</td>\n",
       "      <td>0.000000</td>\n",
       "      <td>0.000000</td>\n",
       "      <td>0.000000</td>\n",
       "    </tr>\n",
       "    <tr>\n",
       "      <th>75%</th>\n",
       "      <td>9.439172e+13</td>\n",
       "      <td>5.725524e+06</td>\n",
       "      <td>55.000000</td>\n",
       "      <td>0.000000</td>\n",
       "      <td>0.000000</td>\n",
       "      <td>0.000000</td>\n",
       "      <td>0.000000</td>\n",
       "      <td>0.000000</td>\n",
       "      <td>1.000000</td>\n",
       "    </tr>\n",
       "    <tr>\n",
       "      <th>max</th>\n",
       "      <td>9.999816e+14</td>\n",
       "      <td>5.790484e+06</td>\n",
       "      <td>115.000000</td>\n",
       "      <td>1.000000</td>\n",
       "      <td>1.000000</td>\n",
       "      <td>1.000000</td>\n",
       "      <td>1.000000</td>\n",
       "      <td>4.000000</td>\n",
       "      <td>1.000000</td>\n",
       "    </tr>\n",
       "  </tbody>\n",
       "</table>\n",
       "</div>"
      ],
      "text/plain": [
       "          PatientId  AppointmentID            Age    Scholarship  \\\n",
       "count  1.105270e+05   1.105270e+05  110527.000000  110527.000000   \n",
       "mean   1.474963e+14   5.675305e+06      37.088874       0.098266   \n",
       "std    2.560949e+14   7.129575e+04      23.110205       0.297675   \n",
       "min    3.921784e+04   5.030230e+06      -1.000000       0.000000   \n",
       "25%    4.172614e+12   5.640286e+06      18.000000       0.000000   \n",
       "50%    3.173184e+13   5.680573e+06      37.000000       0.000000   \n",
       "75%    9.439172e+13   5.725524e+06      55.000000       0.000000   \n",
       "max    9.999816e+14   5.790484e+06     115.000000       1.000000   \n",
       "\n",
       "        Hipertension       Diabetes     Alcoholism        Handcap  \\\n",
       "count  110527.000000  110527.000000  110527.000000  110527.000000   \n",
       "mean        0.197246       0.071865       0.030400       0.022248   \n",
       "std         0.397921       0.258265       0.171686       0.161543   \n",
       "min         0.000000       0.000000       0.000000       0.000000   \n",
       "25%         0.000000       0.000000       0.000000       0.000000   \n",
       "50%         0.000000       0.000000       0.000000       0.000000   \n",
       "75%         0.000000       0.000000       0.000000       0.000000   \n",
       "max         1.000000       1.000000       1.000000       4.000000   \n",
       "\n",
       "        SMS_received  \n",
       "count  110527.000000  \n",
       "mean        0.321026  \n",
       "std         0.466873  \n",
       "min         0.000000  \n",
       "25%         0.000000  \n",
       "50%         0.000000  \n",
       "75%         1.000000  \n",
       "max         1.000000  "
      ]
     },
     "execution_count": 166,
     "metadata": {},
     "output_type": "execute_result"
    }
   ],
   "source": [
    "df.describe()"
   ]
  },
  {
   "cell_type": "markdown",
   "id": "0d341fb0",
   "metadata": {},
   "source": [
    "Seems like there's a minimum age of '-1' which is incongruent, we will discard these, and the maximum age is 115 which is possible so we will keep those rows. "
   ]
  },
  {
   "cell_type": "code",
   "execution_count": 167,
   "id": "a593bf77",
   "metadata": {},
   "outputs": [
    {
     "data": {
      "image/png": "[encoded data removed]",
      "text/plain": [
       "<Figure size 720x576 with 9 Axes>"
      ]
     },
     "metadata": {
      "needs_background": "light"
     },
     "output_type": "display_data"
    }
   ],
   "source": [
    "df.hist(figsize=(10,8));"
   ]
  },
  {
   "cell_type": "code",
   "execution_count": 168,
   "id": "67d035ed",
   "metadata": {},
   "outputs": [
    {
     "data": {
      "text/plain": [
       "PatientId          62299\n",
       "AppointmentID     110527\n",
       "Gender                 2\n",
       "ScheduledDay      103549\n",
       "AppointmentDay        27\n",
       "Age                  104\n",
       "Neighbourhood         81\n",
       "Scholarship            2\n",
       "Hipertension           2\n",
       "Diabetes               2\n",
       "Alcoholism             2\n",
       "Handcap                5\n",
       "SMS_received           2\n",
       "No-show                2\n",
       "dtype: int64"
      ]
     },
     "execution_count": 168,
     "metadata": {},
     "output_type": "execute_result"
    }
   ],
   "source": [
    "df.nunique()"
   ]
  },
  {
   "cell_type": "markdown",
   "id": "92768bb4",
   "metadata": {},
   "source": [
    "The indicators in the Scholarship, Hypertension, Diabetes, Alcoholism, and SMS_received are normal, there are only two variants, 1 and 0, yes or no, but there seem to be 5 numbers in handicap, we will check if the numbers of incidents apart from 0 and 1 are too many if so we might discard the column, and if there are a few incidents we will get rid of those rows. "
   ]
  },
  {
   "cell_type": "code",
   "execution_count": 169,
   "id": "b2952761",
   "metadata": {},
   "outputs": [
    {
     "data": {
      "text/plain": [
       "PatientId         199\n",
       "AppointmentID     199\n",
       "Gender            199\n",
       "ScheduledDay      199\n",
       "AppointmentDay    199\n",
       "Age               199\n",
       "Neighbourhood     199\n",
       "Scholarship       199\n",
       "Hipertension      199\n",
       "Diabetes          199\n",
       "Alcoholism        199\n",
       "Handcap           199\n",
       "SMS_received      199\n",
       "No-show           199\n",
       "dtype: int64"
      ]
     },
     "execution_count": 169,
     "metadata": {},
     "output_type": "execute_result"
    }
   ],
   "source": [
    "df.query('Handcap > 1').count()"
   ]
  },
  {
   "cell_type": "markdown",
   "id": "e65ef337",
   "metadata": {},
   "source": [
    "There are only 199 occurrences of the Handicap indicator higher than 1. We will get rid of those rows."
   ]
  },
  {
   "cell_type": "code",
   "execution_count": 170,
   "id": "2284ea2a",
   "metadata": {},
   "outputs": [
    {
     "data": {
      "text/plain": [
       "PatientId         1\n",
       "AppointmentID     1\n",
       "Gender            1\n",
       "ScheduledDay      1\n",
       "AppointmentDay    1\n",
       "Age               1\n",
       "Neighbourhood     1\n",
       "Scholarship       1\n",
       "Hipertension      1\n",
       "Diabetes          1\n",
       "Alcoholism        1\n",
       "Handcap           1\n",
       "SMS_received      1\n",
       "No-show           1\n",
       "dtype: int64"
      ]
     },
     "execution_count": 170,
     "metadata": {},
     "output_type": "execute_result"
    }
   ],
   "source": [
    "df.query('Age == -1').count()"
   ]
  },
  {
   "cell_type": "markdown",
   "id": "45a1539d",
   "metadata": {},
   "source": [
    "There's only 1 occurrence of Age '-1'. We'll get rid of that too. "
   ]
  },
  {
   "cell_type": "code",
   "execution_count": 171,
   "id": "0aa4f5b5",
   "metadata": {},
   "outputs": [
    {
     "data": {
      "text/plain": [
       "PatientId         0\n",
       "AppointmentID     0\n",
       "Gender            0\n",
       "ScheduledDay      0\n",
       "AppointmentDay    0\n",
       "Age               0\n",
       "Neighbourhood     0\n",
       "Scholarship       0\n",
       "Hipertension      0\n",
       "Diabetes          0\n",
       "Alcoholism        0\n",
       "Handcap           0\n",
       "SMS_received      0\n",
       "No-show           0\n",
       "dtype: int64"
      ]
     },
     "execution_count": 171,
     "metadata": {},
     "output_type": "execute_result"
    }
   ],
   "source": [
    "df[df.duplicated() == True].count()"
   ]
  },
  {
   "cell_type": "markdown",
   "id": "98e89d6a",
   "metadata": {},
   "source": [
    "There are no duplicated rows in this dataset. "
   ]
  },
  {
   "cell_type": "markdown",
   "id": "9c629c8d",
   "metadata": {},
   "source": [
    "### Data Cleaning"
   ]
  },
  {
   "cell_type": "code",
   "execution_count": 172,
   "id": "cb9349fc",
   "metadata": {},
   "outputs": [],
   "source": [
    "df.rename(columns = str.lower, inplace=True)"
   ]
  },
  {
   "cell_type": "code",
   "execution_count": 173,
   "id": "869cebeb",
   "metadata": {},
   "outputs": [],
   "source": [
    "df.rename(columns = {'no-show' : 'showed_up', 'hipertension' : 'hypertension', 'handcap' : 'handicap'}, inplace=True)"
   ]
  },
  {
   "cell_type": "code",
   "execution_count": 174,
   "id": "93bd1e04",
   "metadata": {},
   "outputs": [],
   "source": [
    "df.drop(['patientid', 'appointmentid'], axis=1, inplace=True)"
   ]
  },
  {
   "cell_type": "code",
   "execution_count": 175,
   "id": "aac76fd7",
   "metadata": {},
   "outputs": [
    {
     "data": {
      "text/html": [
       "<div>\n",
       "<style scoped>\n",
       "    .dataframe tbody tr th:only-of-type {\n",
       "        vertical-align: middle;\n",
       "    }\n",
       "\n",
       "    .dataframe tbody tr th {\n",
       "        vertical-align: top;\n",
       "    }\n",
       "\n",
       "    .dataframe thead th {\n",
       "        text-align: right;\n",
       "    }\n",
       "</style>\n",
       "<table border=\"1\" class=\"dataframe\">\n",
       "  <thead>\n",
       "    <tr style=\"text-align: right;\">\n",
       "      <th></th>\n",
       "      <th>gender</th>\n",
       "      <th>scheduledday</th>\n",
       "      <th>appointmentday</th>\n",
       "      <th>age</th>\n",
       "      <th>neighbourhood</th>\n",
       "      <th>scholarship</th>\n",
       "      <th>hypertension</th>\n",
       "      <th>diabetes</th>\n",
       "      <th>alcoholism</th>\n",
       "      <th>handicap</th>\n",
       "      <th>sms_received</th>\n",
       "      <th>showed_up</th>\n",
       "    </tr>\n",
       "  </thead>\n",
       "  <tbody>\n",
       "    <tr>\n",
       "      <th>0</th>\n",
       "      <td>F</td>\n",
       "      <td>2016-04-29T18:38:08Z</td>\n",
       "      <td>2016-04-29T00:00:00Z</td>\n",
       "      <td>62</td>\n",
       "      <td>JARDIM DA PENHA</td>\n",
       "      <td>0</td>\n",
       "      <td>1</td>\n",
       "      <td>0</td>\n",
       "      <td>0</td>\n",
       "      <td>0</td>\n",
       "      <td>0</td>\n",
       "      <td>No</td>\n",
       "    </tr>\n",
       "    <tr>\n",
       "      <th>1</th>\n",
       "      <td>M</td>\n",
       "      <td>2016-04-29T16:08:27Z</td>\n",
       "      <td>2016-04-29T00:00:00Z</td>\n",
       "      <td>56</td>\n",
       "      <td>JARDIM DA PENHA</td>\n",
       "      <td>0</td>\n",
       "      <td>0</td>\n",
       "      <td>0</td>\n",
       "      <td>0</td>\n",
       "      <td>0</td>\n",
       "      <td>0</td>\n",
       "      <td>No</td>\n",
       "    </tr>\n",
       "    <tr>\n",
       "      <th>2</th>\n",
       "      <td>F</td>\n",
       "      <td>2016-04-29T16:19:04Z</td>\n",
       "      <td>2016-04-29T00:00:00Z</td>\n",
       "      <td>62</td>\n",
       "      <td>MATA DA PRAIA</td>\n",
       "      <td>0</td>\n",
       "      <td>0</td>\n",
       "      <td>0</td>\n",
       "      <td>0</td>\n",
       "      <td>0</td>\n",
       "      <td>0</td>\n",
       "      <td>No</td>\n",
       "    </tr>\n",
       "  </tbody>\n",
       "</table>\n",
       "</div>"
      ],
      "text/plain": [
       "  gender          scheduledday        appointmentday  age    neighbourhood  \\\n",
       "0      F  2016-04-29T18:38:08Z  2016-04-29T00:00:00Z   62  JARDIM DA PENHA   \n",
       "1      M  2016-04-29T16:08:27Z  2016-04-29T00:00:00Z   56  JARDIM DA PENHA   \n",
       "2      F  2016-04-29T16:19:04Z  2016-04-29T00:00:00Z   62    MATA DA PRAIA   \n",
       "\n",
       "   scholarship  hypertension  diabetes  alcoholism  handicap  sms_received  \\\n",
       "0            0             1         0           0         0             0   \n",
       "1            0             0         0           0         0             0   \n",
       "2            0             0         0           0         0             0   \n",
       "\n",
       "  showed_up  \n",
       "0        No  \n",
       "1        No  \n",
       "2        No  "
      ]
     },
     "execution_count": 175,
     "metadata": {},
     "output_type": "execute_result"
    }
   ],
   "source": [
    "df.head(3)"
   ]
  },
  {
   "cell_type": "markdown",
   "id": "166ddd25",
   "metadata": {},
   "source": [
    "We change the column labels to lowercase, convert to underscore the spaces between words, and translate the labels to the English language to have a consistent format.\n",
    "\n",
    "We also drop the 'patientid' and 'appointmentid' columns because we won't be needing them.\n",
    "\n",
    "The \"no-show\" values will be changed to have consistent indicators, right now \"No\" means the patient showed up, and \"Yes\" means the patient did ***not*** show up."
   ]
  },
  {
   "cell_type": "code",
   "execution_count": 176,
   "id": "23101bf5",
   "metadata": {},
   "outputs": [],
   "source": [
    "df['showed_up'] = df['showed_up'].map({'No':'Yes',\n",
    "                                      'Yes':'No'},\n",
    "                                      na_action=None)\n"
   ]
  },
  {
   "cell_type": "markdown",
   "id": "23de30b5",
   "metadata": {},
   "source": [
    "Change the \"showed_up\" column from \"No\" to \"Yes\" and vice versa, to have a consistent definition. "
   ]
  },
  {
   "cell_type": "code",
   "execution_count": 177,
   "id": "52bc00d7",
   "metadata": {},
   "outputs": [
    {
     "data": {
      "text/plain": [
       "pandas._libs.tslibs.timestamps.Timestamp"
      ]
     },
     "execution_count": 177,
     "metadata": {},
     "output_type": "execute_result"
    }
   ],
   "source": [
    "df['scheduledday'] = pd.to_datetime(df['scheduledday'])\n",
    "type(df['scheduledday'][0])"
   ]
  },
  {
   "cell_type": "code",
   "execution_count": 178,
   "id": "b4f8fb3a",
   "metadata": {},
   "outputs": [
    {
     "data": {
      "text/plain": [
       "pandas._libs.tslibs.timestamps.Timestamp"
      ]
     },
     "execution_count": 178,
     "metadata": {},
     "output_type": "execute_result"
    }
   ],
   "source": [
    "df['appointmentday'] = pd.to_datetime(df['appointmentday'])\n",
    "type(df['appointmentday'][0])"
   ]
  },
  {
   "cell_type": "markdown",
   "id": "b1656af2",
   "metadata": {},
   "source": [
    "We convert the data types of the dates when the appointments were scheduled and the dates when the appointments took place to datetime stamps."
   ]
  },
  {
   "cell_type": "code",
   "execution_count": 179,
   "id": "0f079042",
   "metadata": {},
   "outputs": [
    {
     "data": {
      "text/html": [
       "<div>\n",
       "<style scoped>\n",
       "    .dataframe tbody tr th:only-of-type {\n",
       "        vertical-align: middle;\n",
       "    }\n",
       "\n",
       "    .dataframe tbody tr th {\n",
       "        vertical-align: top;\n",
       "    }\n",
       "\n",
       "    .dataframe thead th {\n",
       "        text-align: right;\n",
       "    }\n",
       "</style>\n",
       "<table border=\"1\" class=\"dataframe\">\n",
       "  <thead>\n",
       "    <tr style=\"text-align: right;\">\n",
       "      <th></th>\n",
       "      <th>gender</th>\n",
       "      <th>scheduledday</th>\n",
       "      <th>appointmentday</th>\n",
       "      <th>age</th>\n",
       "      <th>neighbourhood</th>\n",
       "      <th>scholarship</th>\n",
       "      <th>hypertension</th>\n",
       "      <th>diabetes</th>\n",
       "      <th>alcoholism</th>\n",
       "      <th>handicap</th>\n",
       "      <th>sms_received</th>\n",
       "      <th>showed_up</th>\n",
       "      <th>daysbetween</th>\n",
       "    </tr>\n",
       "  </thead>\n",
       "  <tbody>\n",
       "    <tr>\n",
       "      <th>0</th>\n",
       "      <td>F</td>\n",
       "      <td>2016-04-29 18:38:08+00:00</td>\n",
       "      <td>2016-04-29 00:00:00+00:00</td>\n",
       "      <td>62</td>\n",
       "      <td>JARDIM DA PENHA</td>\n",
       "      <td>0</td>\n",
       "      <td>1</td>\n",
       "      <td>0</td>\n",
       "      <td>0</td>\n",
       "      <td>0</td>\n",
       "      <td>0</td>\n",
       "      <td>Yes</td>\n",
       "      <td>0</td>\n",
       "    </tr>\n",
       "    <tr>\n",
       "      <th>1</th>\n",
       "      <td>M</td>\n",
       "      <td>2016-04-29 16:08:27+00:00</td>\n",
       "      <td>2016-04-29 00:00:00+00:00</td>\n",
       "      <td>56</td>\n",
       "      <td>JARDIM DA PENHA</td>\n",
       "      <td>0</td>\n",
       "      <td>0</td>\n",
       "      <td>0</td>\n",
       "      <td>0</td>\n",
       "      <td>0</td>\n",
       "      <td>0</td>\n",
       "      <td>Yes</td>\n",
       "      <td>0</td>\n",
       "    </tr>\n",
       "    <tr>\n",
       "      <th>2</th>\n",
       "      <td>F</td>\n",
       "      <td>2016-04-29 16:19:04+00:00</td>\n",
       "      <td>2016-04-29 00:00:00+00:00</td>\n",
       "      <td>62</td>\n",
       "      <td>MATA DA PRAIA</td>\n",
       "      <td>0</td>\n",
       "      <td>0</td>\n",
       "      <td>0</td>\n",
       "      <td>0</td>\n",
       "      <td>0</td>\n",
       "      <td>0</td>\n",
       "      <td>Yes</td>\n",
       "      <td>0</td>\n",
       "    </tr>\n",
       "  </tbody>\n",
       "</table>\n",
       "</div>"
      ],
      "text/plain": [
       "  gender              scheduledday            appointmentday  age  \\\n",
       "0      F 2016-04-29 18:38:08+00:00 2016-04-29 00:00:00+00:00   62   \n",
       "1      M 2016-04-29 16:08:27+00:00 2016-04-29 00:00:00+00:00   56   \n",
       "2      F 2016-04-29 16:19:04+00:00 2016-04-29 00:00:00+00:00   62   \n",
       "\n",
       "     neighbourhood  scholarship  hypertension  diabetes  alcoholism  handicap  \\\n",
       "0  JARDIM DA PENHA            0             1         0           0         0   \n",
       "1  JARDIM DA PENHA            0             0         0           0         0   \n",
       "2    MATA DA PRAIA            0             0         0           0         0   \n",
       "\n",
       "   sms_received showed_up  daysbetween  \n",
       "0             0       Yes            0  \n",
       "1             0       Yes            0  \n",
       "2             0       Yes            0  "
      ]
     },
     "execution_count": 179,
     "metadata": {},
     "output_type": "execute_result"
    }
   ],
   "source": [
    "daysbetween = df['appointmentday'].dt.date - df['scheduledday'].dt.date\n",
    "df['daysbetween'] = daysbetween.dt.days.view(int)\n",
    "df.head(3)"
   ]
  },
  {
   "cell_type": "markdown",
   "id": "3ed9cc2b",
   "metadata": {},
   "source": [
    "We now add a new column with the number of days between the scheduling of the appointment and the appointment itself. "
   ]
  },
  {
   "cell_type": "code",
   "execution_count": 180,
   "id": "135ef24d",
   "metadata": {},
   "outputs": [
    {
     "data": {
      "text/html": [
       "<div>\n",
       "<style scoped>\n",
       "    .dataframe tbody tr th:only-of-type {\n",
       "        vertical-align: middle;\n",
       "    }\n",
       "\n",
       "    .dataframe tbody tr th {\n",
       "        vertical-align: top;\n",
       "    }\n",
       "\n",
       "    .dataframe thead th {\n",
       "        text-align: right;\n",
       "    }\n",
       "</style>\n",
       "<table border=\"1\" class=\"dataframe\">\n",
       "  <thead>\n",
       "    <tr style=\"text-align: right;\">\n",
       "      <th></th>\n",
       "      <th>gender</th>\n",
       "      <th>scheduledday</th>\n",
       "      <th>appointmentday</th>\n",
       "      <th>age</th>\n",
       "      <th>neighbourhood</th>\n",
       "      <th>scholarship</th>\n",
       "      <th>hypertension</th>\n",
       "      <th>diabetes</th>\n",
       "      <th>alcoholism</th>\n",
       "      <th>handicap</th>\n",
       "      <th>sms_received</th>\n",
       "      <th>showed_up</th>\n",
       "      <th>daysbetween</th>\n",
       "    </tr>\n",
       "  </thead>\n",
       "  <tbody>\n",
       "    <tr>\n",
       "      <th>27033</th>\n",
       "      <td>M</td>\n",
       "      <td>2016-05-10 10:51:53+00:00</td>\n",
       "      <td>2016-05-09 00:00:00+00:00</td>\n",
       "      <td>38</td>\n",
       "      <td>RESISTÊNCIA</td>\n",
       "      <td>0</td>\n",
       "      <td>0</td>\n",
       "      <td>0</td>\n",
       "      <td>0</td>\n",
       "      <td>1</td>\n",
       "      <td>0</td>\n",
       "      <td>No</td>\n",
       "      <td>-1</td>\n",
       "    </tr>\n",
       "    <tr>\n",
       "      <th>55226</th>\n",
       "      <td>F</td>\n",
       "      <td>2016-05-18 14:50:41+00:00</td>\n",
       "      <td>2016-05-17 00:00:00+00:00</td>\n",
       "      <td>19</td>\n",
       "      <td>SANTO ANTÔNIO</td>\n",
       "      <td>0</td>\n",
       "      <td>0</td>\n",
       "      <td>0</td>\n",
       "      <td>0</td>\n",
       "      <td>1</td>\n",
       "      <td>0</td>\n",
       "      <td>No</td>\n",
       "      <td>-1</td>\n",
       "    </tr>\n",
       "    <tr>\n",
       "      <th>64175</th>\n",
       "      <td>F</td>\n",
       "      <td>2016-05-05 13:43:58+00:00</td>\n",
       "      <td>2016-05-04 00:00:00+00:00</td>\n",
       "      <td>22</td>\n",
       "      <td>CONSOLAÇÃO</td>\n",
       "      <td>0</td>\n",
       "      <td>0</td>\n",
       "      <td>0</td>\n",
       "      <td>0</td>\n",
       "      <td>0</td>\n",
       "      <td>0</td>\n",
       "      <td>No</td>\n",
       "      <td>-1</td>\n",
       "    </tr>\n",
       "    <tr>\n",
       "      <th>71533</th>\n",
       "      <td>F</td>\n",
       "      <td>2016-05-11 13:49:20+00:00</td>\n",
       "      <td>2016-05-05 00:00:00+00:00</td>\n",
       "      <td>81</td>\n",
       "      <td>SANTO ANTÔNIO</td>\n",
       "      <td>0</td>\n",
       "      <td>0</td>\n",
       "      <td>0</td>\n",
       "      <td>0</td>\n",
       "      <td>0</td>\n",
       "      <td>0</td>\n",
       "      <td>No</td>\n",
       "      <td>-6</td>\n",
       "    </tr>\n",
       "    <tr>\n",
       "      <th>72362</th>\n",
       "      <td>M</td>\n",
       "      <td>2016-05-04 06:50:57+00:00</td>\n",
       "      <td>2016-05-03 00:00:00+00:00</td>\n",
       "      <td>7</td>\n",
       "      <td>TABUAZEIRO</td>\n",
       "      <td>0</td>\n",
       "      <td>0</td>\n",
       "      <td>0</td>\n",
       "      <td>0</td>\n",
       "      <td>0</td>\n",
       "      <td>0</td>\n",
       "      <td>No</td>\n",
       "      <td>-1</td>\n",
       "    </tr>\n",
       "  </tbody>\n",
       "</table>\n",
       "</div>"
      ],
      "text/plain": [
       "      gender              scheduledday            appointmentday  age  \\\n",
       "27033      M 2016-05-10 10:51:53+00:00 2016-05-09 00:00:00+00:00   38   \n",
       "55226      F 2016-05-18 14:50:41+00:00 2016-05-17 00:00:00+00:00   19   \n",
       "64175      F 2016-05-05 13:43:58+00:00 2016-05-04 00:00:00+00:00   22   \n",
       "71533      F 2016-05-11 13:49:20+00:00 2016-05-05 00:00:00+00:00   81   \n",
       "72362      M 2016-05-04 06:50:57+00:00 2016-05-03 00:00:00+00:00    7   \n",
       "\n",
       "       neighbourhood  scholarship  hypertension  diabetes  alcoholism  \\\n",
       "27033    RESISTÊNCIA            0             0         0           0   \n",
       "55226  SANTO ANTÔNIO            0             0         0           0   \n",
       "64175     CONSOLAÇÃO            0             0         0           0   \n",
       "71533  SANTO ANTÔNIO            0             0         0           0   \n",
       "72362     TABUAZEIRO            0             0         0           0   \n",
       "\n",
       "       handicap  sms_received showed_up  daysbetween  \n",
       "27033         1             0        No           -1  \n",
       "55226         1             0        No           -1  \n",
       "64175         0             0        No           -1  \n",
       "71533         0             0        No           -6  \n",
       "72362         0             0        No           -1  "
      ]
     },
     "execution_count": 180,
     "metadata": {},
     "output_type": "execute_result"
    }
   ],
   "source": [
    "df[df['daysbetween'] < 0]"
   ]
  },
  {
   "cell_type": "markdown",
   "id": "2b96d610",
   "metadata": {},
   "source": [
    "We can see that some appointments were scheduled days after they were supposed to happen. "
   ]
  },
  {
   "cell_type": "code",
   "execution_count": 181,
   "id": "2b3c354b",
   "metadata": {},
   "outputs": [
    {
     "data": {
      "text/plain": [
       "gender            5\n",
       "scheduledday      5\n",
       "appointmentday    5\n",
       "age               5\n",
       "neighbourhood     5\n",
       "scholarship       5\n",
       "hypertension      5\n",
       "diabetes          5\n",
       "alcoholism        5\n",
       "handicap          5\n",
       "sms_received      5\n",
       "showed_up         5\n",
       "daysbetween       5\n",
       "dtype: int64"
      ]
     },
     "execution_count": 181,
     "metadata": {},
     "output_type": "execute_result"
    }
   ],
   "source": [
    "df.query('daysbetween < 0').count()"
   ]
  },
  {
   "cell_type": "code",
   "execution_count": 182,
   "id": "2f215e8f",
   "metadata": {},
   "outputs": [],
   "source": [
    "df.drop(df.query('daysbetween < 0').index, inplace=True)"
   ]
  },
  {
   "cell_type": "markdown",
   "id": "366c3408",
   "metadata": {},
   "source": [
    "They are only 5 rows so we'll get rid of those. "
   ]
  },
  {
   "cell_type": "code",
   "execution_count": 183,
   "id": "2902d114",
   "metadata": {},
   "outputs": [],
   "source": [
    "df.drop(df.query('handicap > 1').index, inplace=True);"
   ]
  },
  {
   "cell_type": "markdown",
   "id": "96dc8211",
   "metadata": {},
   "source": [
    "We get rid of the handicap indicators above 1. There were only 199 of them, those might have been mistakes when entering the data. "
   ]
  },
  {
   "cell_type": "code",
   "execution_count": 184,
   "id": "bcc99db8",
   "metadata": {},
   "outputs": [],
   "source": [
    "df.drop(df.query('age < 0').index, inplace=True)"
   ]
  },
  {
   "cell_type": "markdown",
   "id": "e944f706",
   "metadata": {},
   "source": [
    "We also get rid of the row with age '-1' because it does not make sense. "
   ]
  },
  {
   "cell_type": "markdown",
   "id": "684669a5",
   "metadata": {},
   "source": [
    "<a id='eda'></a>\n",
    "## Exploratory Data Analysis\n",
    "\n",
    "### Research Question: Does the patient's age determine the likelihood of showing up to the appointment?"
   ]
  },
  {
   "cell_type": "code",
   "execution_count": 185,
   "id": "7ce91460",
   "metadata": {},
   "outputs": [],
   "source": [
    "df_showed_up = df.query('showed_up == \"Yes\"')\n",
    "df_not_showed_up = df.query('showed_up == \"No\"')"
   ]
  },
  {
   "cell_type": "code",
   "execution_count": 186,
   "id": "85f504f9",
   "metadata": {},
   "outputs": [
    {
     "data": {
      "image/png": "[encoded data removed]",
      "text/plain": [
       "<Figure size 432x288 with 1 Axes>"
      ]
     },
     "metadata": {
      "needs_background": "light"
     },
     "output_type": "display_data"
    }
   ],
   "source": [
    "plt.hist(df_showed_up['age'], bins=20, color='blue')\n",
    "plt.hist(df_not_showed_up['age'], bins=20, color='red')\n",
    "plt.ylabel('Amount of Appointments')\n",
    "plt.xlabel('Ages')\n",
    "plt.title('Histogram of Ages and if They Showed Up to Appointment')\n",
    "plt.legend(['Showed Up', 'No Show']);"
   ]
  },
  {
   "cell_type": "markdown",
   "id": "584d82fa",
   "metadata": {},
   "source": [
    "It seems that there are more appointments for babies and young children, and the majority of them show up to the appointment. There are fewer appointments made by people ages 10 - 25 approximately, presumably because they are healthier at that age. We see that for people ages 26 - 64 there is a growth in the number of appointments, except for a considerate decrease of appointments in people ages 41 - 48 approximately. The distribution is skewed to the right mainly because of the life expectancy. According to the data of the United Nations, in the period 2010 - 2015, in which this data was taken, Brazil had a life expectancy of 74.34."
   ]
  },
  {
   "cell_type": "markdown",
   "id": "47899f0d",
   "metadata": {},
   "source": [
    " ### Research Question: Does the patient gender tell us if a patient is likely to show up to the appointment?"
   ]
  },
  {
   "cell_type": "code",
   "execution_count": 187,
   "id": "6002b739",
   "metadata": {},
   "outputs": [
    {
     "data": {
      "image/png": "[encoded data removed]",
      "text/plain": [
       "<Figure size 432x288 with 1 Axes>"
      ]
     },
     "metadata": {
      "needs_background": "light"
     },
     "output_type": "display_data"
    }
   ],
   "source": [
    "f_amount = df_showed_up.query('gender == \"F\"')['gender'].count()\n",
    "m_amount = df_showed_up.query('gender == \"M\"')['gender'].count()\n",
    "values = [f_amount, m_amount]\n",
    "genders = ['F', 'M']\n",
    "\n",
    "plt.bar(genders, values, color='purple')\n",
    "\n",
    "plt.ylabel('Amount of Appointments')\n",
    "plt.xlabel('Gender')\n",
    "plt.title('Amount of Appointments by Gender');"
   ]
  },
  {
   "cell_type": "markdown",
   "id": "9ddcd877",
   "metadata": {},
   "source": [
    "There are more appointments made by women than men."
   ]
  },
  {
   "cell_type": "code",
   "execution_count": 188,
   "id": "6b236e36",
   "metadata": {},
   "outputs": [
    {
     "data": {
      "text/plain": [
       "F    64.920669\n",
       "M    35.079331\n",
       "Name: gender, dtype: float64"
      ]
     },
     "execution_count": 188,
     "metadata": {},
     "output_type": "execute_result"
    }
   ],
   "source": [
    "percent_show_gender = df_showed_up['gender'].value_counts() / df_showed_up.shape[0] * 100\n",
    "percent_show_gender"
   ]
  },
  {
   "cell_type": "code",
   "execution_count": 189,
   "id": "c2991ede",
   "metadata": {},
   "outputs": [
    {
     "data": {
      "text/plain": [
       "F    65.393077\n",
       "M    34.606923\n",
       "Name: gender, dtype: float64"
      ]
     },
     "execution_count": 189,
     "metadata": {},
     "output_type": "execute_result"
    }
   ],
   "source": [
    "percent_no_show_gender = df_not_showed_up['gender'].value_counts() / df_not_showed_up.shape[0] * 100\n",
    "percent_no_show_gender"
   ]
  },
  {
   "cell_type": "code",
   "execution_count": 190,
   "id": "aececa5a",
   "metadata": {},
   "outputs": [
    {
     "data": {
      "image/png": "[encoded data removed]",
      "text/plain": [
       "<Figure size 432x288 with 1 Axes>"
      ]
     },
     "metadata": {
      "needs_background": "light"
     },
     "output_type": "display_data"
    }
   ],
   "source": [
    "ind_x = np.arange(len(percent_show_gender))  # the x locations for the groups\n",
    "width_bars = 0.35       # the width of the bars\n",
    "\n",
    "blue_bars = plt.bar(ind_x, percent_show_gender, width_bars, color='blue', label='Showed Up')\n",
    "orange_bars = plt.bar(ind_x + width_bars, percent_no_show_gender, width_bars, color='red', label='No Show')\n",
    "\n",
    "# title and labels\n",
    "plt.ylabel('Percentage')\n",
    "plt.xlabel('Gender')\n",
    "plt.title('Percentage of Attendance by Gender')\n",
    "locations = ind_x + width_bars / 2  # xtick locations\n",
    "labels = ['Feminine', 'Masculine']  # xtick labels\n",
    "plt.xticks(locations, labels)\n",
    "\n",
    "# legend\n",
    "plt.legend();"
   ]
  },
  {
   "cell_type": "markdown",
   "id": "5bedf5ef",
   "metadata": {},
   "source": [
    "We see in the \"Percentage of Attendance by Gender\" chart that despite women having more appointments, roughly half of the men and half of the women don't show up to the appointment. There's **no** correlation between genders and not showing up to the appointment. "
   ]
  },
  {
   "cell_type": "markdown",
   "id": "9bf28346",
   "metadata": {},
   "source": [
    "### Research Question: Does it reduces the chances of the patient showing up if the appointment is scheduled far into the future?"
   ]
  },
  {
   "cell_type": "code",
   "execution_count": 191,
   "id": "8c924a96",
   "metadata": {},
   "outputs": [
    {
     "data": {
      "image/png": "[encoded data removed]",
      "text/plain": [
       "<Figure size 432x288 with 1 Axes>"
      ]
     },
     "metadata": {
      "needs_background": "light"
     },
     "output_type": "display_data"
    }
   ],
   "source": [
    "df_showed_up['daysbetween'].hist(color=['blue'])\n",
    "df_not_showed_up['daysbetween'].hist(color=['red'])\n",
    "plt.ylabel('Amount of Appointments')\n",
    "plt.xlabel('Days Between Scheduling Date and Appointment Date')\n",
    "plt.title('Patients Showing Up According to Days Between Scheduling and Appointment')\n",
    "plt.legend(['Showed Up', 'No Show']);"
   ]
  },
  {
   "cell_type": "markdown",
   "id": "8b0607c4",
   "metadata": {},
   "source": [
    "We see that most of the appointments are close to the day of them being scheduled. But we need to see the proportions of each bin."
   ]
  },
  {
   "cell_type": "code",
   "execution_count": 192,
   "id": "a8b3f95e",
   "metadata": {},
   "outputs": [
    {
     "data": {
      "text/html": [
       "<div>\n",
       "<style scoped>\n",
       "    .dataframe tbody tr th:only-of-type {\n",
       "        vertical-align: middle;\n",
       "    }\n",
       "\n",
       "    .dataframe tbody tr th {\n",
       "        vertical-align: top;\n",
       "    }\n",
       "\n",
       "    .dataframe thead th {\n",
       "        text-align: right;\n",
       "    }\n",
       "</style>\n",
       "<table border=\"1\" class=\"dataframe\">\n",
       "  <thead>\n",
       "    <tr style=\"text-align: right;\">\n",
       "      <th></th>\n",
       "      <th>count</th>\n",
       "      <th>mean</th>\n",
       "      <th>std</th>\n",
       "      <th>min</th>\n",
       "      <th>25%</th>\n",
       "      <th>50%</th>\n",
       "      <th>75%</th>\n",
       "      <th>max</th>\n",
       "    </tr>\n",
       "    <tr>\n",
       "      <th>showed_up</th>\n",
       "      <th></th>\n",
       "      <th></th>\n",
       "      <th></th>\n",
       "      <th></th>\n",
       "      <th></th>\n",
       "      <th></th>\n",
       "      <th></th>\n",
       "      <th></th>\n",
       "    </tr>\n",
       "  </thead>\n",
       "  <tbody>\n",
       "    <tr>\n",
       "      <th>No</th>\n",
       "      <td>22273.0</td>\n",
       "      <td>15.834778</td>\n",
       "      <td>16.600478</td>\n",
       "      <td>0.0</td>\n",
       "      <td>4.0</td>\n",
       "      <td>11.0</td>\n",
       "      <td>23.0</td>\n",
       "      <td>179.0</td>\n",
       "    </tr>\n",
       "    <tr>\n",
       "      <th>Yes</th>\n",
       "      <td>88049.0</td>\n",
       "      <td>8.758986</td>\n",
       "      <td>14.556123</td>\n",
       "      <td>0.0</td>\n",
       "      <td>0.0</td>\n",
       "      <td>2.0</td>\n",
       "      <td>12.0</td>\n",
       "      <td>179.0</td>\n",
       "    </tr>\n",
       "  </tbody>\n",
       "</table>\n",
       "</div>"
      ],
      "text/plain": [
       "             count       mean        std  min  25%   50%   75%    max\n",
       "showed_up                                                            \n",
       "No         22273.0  15.834778  16.600478  0.0  4.0  11.0  23.0  179.0\n",
       "Yes        88049.0   8.758986  14.556123  0.0  0.0   2.0  12.0  179.0"
      ]
     },
     "execution_count": 192,
     "metadata": {},
     "output_type": "execute_result"
    }
   ],
   "source": [
    "df.groupby('showed_up')['daysbetween'].describe()"
   ]
  },
  {
   "cell_type": "code",
   "execution_count": 193,
   "id": "832f1d7c",
   "metadata": {},
   "outputs": [],
   "source": [
    "bin_edges = [ 0, 7, 14, 30, 179 ]\n",
    "bin_names = ['0-7 days', '8-14 days', '15-30 days', '31-179 days']\n",
    "df['periodsdaysbetween'] = pd.cut(df['daysbetween'], bin_edges, labels=bin_names, include_lowest=True , right=True)"
   ]
  },
  {
   "cell_type": "markdown",
   "id": "82eb32c8",
   "metadata": {},
   "source": [
    "We separate the appointments into periods, and then we create a bar chart with the percentages of people showing up and *not* showing up."
   ]
  },
  {
   "cell_type": "code",
   "execution_count": 194,
   "id": "de27a11b",
   "metadata": {},
   "outputs": [
    {
     "data": {
      "text/plain": [
       "0-7 days       61065\n",
       "15-30 days     11689\n",
       "8-14 days       8346\n",
       "31-179 days     6949\n",
       "Name: periodsdaysbetween, dtype: int64"
      ]
     },
     "execution_count": 194,
     "metadata": {},
     "output_type": "execute_result"
    }
   ],
   "source": [
    "df_showed_up = df.query('showed_up == \"Yes\"')\n",
    "show_daysbetween = df_showed_up['periodsdaysbetween'].value_counts()\n",
    "show_daysbetween"
   ]
  },
  {
   "cell_type": "code",
   "execution_count": 195,
   "id": "d621dc31",
   "metadata": {},
   "outputs": [
    {
     "data": {
      "text/plain": [
       "0-7 days       9543\n",
       "15-30 days     5650\n",
       "8-14 days      3662\n",
       "31-179 days    3418\n",
       "Name: periodsdaysbetween, dtype: int64"
      ]
     },
     "execution_count": 195,
     "metadata": {},
     "output_type": "execute_result"
    }
   ],
   "source": [
    "df_not_showed_up = df.query('showed_up == \"No\"')\n",
    "no_show_daysbetween = df_not_showed_up['periodsdaysbetween'].value_counts()\n",
    "no_show_daysbetween"
   ]
  },
  {
   "cell_type": "code",
   "execution_count": 196,
   "id": "c745159d",
   "metadata": {},
   "outputs": [],
   "source": [
    "percent_show_daysbetween = []\n",
    "percent_no_show_daysbetween = []\n",
    "for period in list(df['periodsdaysbetween'].value_counts().index):\n",
    "     show_period = show_daysbetween[period]\n",
    "     noshow_period = no_show_daysbetween[period]\n",
    "     percent_show_daysbetween.append(show_period / (show_period + noshow_period) * 100)\n",
    "     percent_no_show_daysbetween.append(noshow_period / (show_period + noshow_period)  * 100)\n",
    "     "
   ]
  },
  {
   "cell_type": "code",
   "execution_count": 197,
   "id": "31f0d51a",
   "metadata": {},
   "outputs": [
    {
     "data": {
      "text/plain": [
       "['0-7 days', '15-30 days', '8-14 days', '31-179 days']"
      ]
     },
     "execution_count": 197,
     "metadata": {},
     "output_type": "execute_result"
    }
   ],
   "source": [
    "list(df['periodsdaysbetween'].value_counts().index)"
   ]
  },
  {
   "cell_type": "code",
   "execution_count": 198,
   "id": "b71dec7e",
   "metadata": {},
   "outputs": [
    {
     "data": {
      "text/plain": [
       "[86.4845343303875, 67.41449910606147, 69.50366422385076, 67.02999903540079]"
      ]
     },
     "execution_count": 198,
     "metadata": {},
     "output_type": "execute_result"
    }
   ],
   "source": [
    "percent_show_daysbetween"
   ]
  },
  {
   "cell_type": "code",
   "execution_count": 199,
   "id": "d9d02d87",
   "metadata": {},
   "outputs": [
    {
     "data": {
      "text/plain": [
       "[13.515465669612508, 32.585500893938516, 30.496335776149238, 32.97000096459921]"
      ]
     },
     "execution_count": 199,
     "metadata": {},
     "output_type": "execute_result"
    }
   ],
   "source": [
    "percent_no_show_daysbetween"
   ]
  },
  {
   "cell_type": "code",
   "execution_count": 200,
   "id": "805b0c62",
   "metadata": {},
   "outputs": [
    {
     "data": {
      "image/png": "[encoded data removed]",
      "text/plain": [
       "<Figure size 432x288 with 1 Axes>"
      ]
     },
     "metadata": {
      "needs_background": "light"
     },
     "output_type": "display_data"
    }
   ],
   "source": [
    "ind_x = np.array([0, 2, 1, 3])  # the x locations for the groups\n",
    "width_bars = 0.35       # the width of the bars\n",
    "\n",
    "blue_bars = plt.bar(ind_x, percent_show_daysbetween, width_bars, color='blue', label='Showed Up')\n",
    "orange_bars = plt.bar(ind_x + width_bars, percent_no_show_daysbetween, width_bars, color='red', label='No Show')\n",
    "\n",
    "# title and labels\n",
    "plt.ylabel('Percentage')\n",
    "plt.xlabel('Days Between Appointments')\n",
    "plt.title('Percentage of People Showing Up and Days Between Dates')\n",
    "locations = ind_x + width_bars / 2  # xtick locations\n",
    "labels = ['0-7 days', '15-30 1days', '8-14 days', '31-179 days']  # xtick labels\n",
    "plt.xticks(locations, labels)\n",
    "\n",
    "# legend\n",
    "plt.legend();"
   ]
  },
  {
   "cell_type": "markdown",
   "id": "6d9b6c3e",
   "metadata": {},
   "source": [
    "When we isolate the percentages of each period we see that in the \"0-7 days\" period 86.48% show up for their appointment, and from 8 to 179 days between scheduling the appointment people showed up around 68% on average, which is an 18% drop in attendance. "
   ]
  },
  {
   "cell_type": "markdown",
   "id": "706c77f4",
   "metadata": {},
   "source": [
    "### Research Question: Do hypertension, diabetes, or alcoholism influence whether the patient shows up to the appointment?"
   ]
  },
  {
   "cell_type": "markdown",
   "id": "26380037",
   "metadata": {},
   "source": [
    "#### Hypertension"
   ]
  },
  {
   "cell_type": "code",
   "execution_count": 201,
   "id": "75fa77b3",
   "metadata": {},
   "outputs": [],
   "source": [
    "df_hyper_no = df.query('hypertension == 0')\n",
    "df_hyper_yes = df.query('hypertension == 1')"
   ]
  },
  {
   "cell_type": "code",
   "execution_count": 250,
   "id": "efa9ca1c",
   "metadata": {},
   "outputs": [
    {
     "data": {
      "text/plain": [
       "1    19.684197\n",
       "Name: hypertension, dtype: float64"
      ]
     },
     "execution_count": 250,
     "metadata": {},
     "output_type": "execute_result"
    }
   ],
   "source": [
    "# Percentage of people with hypertension\n",
    "df_hyper_yes['hypertension'].value_counts() / df.shape[0] * 100"
   ]
  },
  {
   "cell_type": "code",
   "execution_count": 203,
   "id": "fdfca153",
   "metadata": {},
   "outputs": [],
   "source": [
    "amount_show_hyper_yes = df_hyper_yes['showed_up'].value_counts() \n",
    "percent_show_hyper_yes = amount_show_hyper_yes / df_hyper_yes.shape[0] * 100"
   ]
  },
  {
   "cell_type": "code",
   "execution_count": 204,
   "id": "3da2e742",
   "metadata": {},
   "outputs": [],
   "source": [
    "amount_show_hyper_no = df_hyper_no['showed_up'].value_counts() \n",
    "percent_show_hyper_no = amount_show_hyper_no / df_hyper_no.shape[0] * 100"
   ]
  },
  {
   "cell_type": "code",
   "execution_count": 205,
   "id": "46284b01",
   "metadata": {},
   "outputs": [],
   "source": [
    "amount_show_hypertension = pd.Series(np.array([amount_show_hyper_no['Yes'], amount_show_hyper_yes['Yes']]))\n",
    "amount_no_show_hypertension = pd.Series(np.array([amount_show_hyper_no['No'], amount_show_hyper_yes['No']]))\n",
    "percent_show_hypertension = pd.Series(np.array([percent_show_hyper_no['Yes'], percent_show_hyper_yes['Yes']]))\n",
    "percent_no_show_hypertension = pd.Series(np.array([percent_show_hyper_no['No'], percent_show_hyper_yes['No']]))"
   ]
  },
  {
   "cell_type": "code",
   "execution_count": 206,
   "id": "42dfa099",
   "metadata": {},
   "outputs": [
    {
     "data": {
      "image/png": "[encoded data removed]",
      "text/plain": [
       "<Figure size 432x288 with 1 Axes>"
      ]
     },
     "metadata": {
      "needs_background": "light"
     },
     "output_type": "display_data"
    }
   ],
   "source": [
    "ind_x = np.arange(len(amount_show_hypertension))  # the x locations for the groups\n",
    "width_bars = 0.35       # the width of the bars\n",
    "\n",
    "blue_bars = plt.bar(ind_x, amount_show_hypertension, width_bars, color='blue', label='Showed Up')\n",
    "orange_bars = plt.bar(ind_x + width_bars, amount_no_show_hypertension, width_bars, color='red', label='No Show')\n",
    "\n",
    "# title and labels\n",
    "plt.ylabel('Amount')\n",
    "plt.xlabel('Hypertension')\n",
    "plt.title('Amount of Attendance by Hypertension Diagnosis')\n",
    "locations = ind_x + width_bars / 2  # xtick locations\n",
    "labels = ['No Hypertension', 'Hypertension']  # xtick labels\n",
    "plt.xticks(locations, labels)\n",
    "\n",
    "# legend\n",
    "plt.legend();"
   ]
  },
  {
   "cell_type": "code",
   "execution_count": 207,
   "id": "731691a3",
   "metadata": {},
   "outputs": [
    {
     "data": {
      "image/png": "[encoded data removed]",
      "text/plain": [
       "<Figure size 432x288 with 1 Axes>"
      ]
     },
     "metadata": {
      "needs_background": "light"
     },
     "output_type": "display_data"
    }
   ],
   "source": [
    "ind_x = np.arange(len(percent_show_hypertension))  # the x locations for the groups\n",
    "width_bars = 0.35       # the width of the bars\n",
    "\n",
    "blue_bars = plt.bar(ind_x, percent_show_hypertension, width_bars, color='blue', label='Showed Up')\n",
    "orange_bars = plt.bar(ind_x + width_bars, percent_no_show_hypertension, width_bars, color='red', label='No Show')\n",
    "\n",
    "# title and labels\n",
    "plt.ylabel('Percentage')\n",
    "plt.xlabel('Hypertension')\n",
    "plt.title('Percentage of Attendance by Hypertension Diagnosis')\n",
    "locations = ind_x + width_bars / 2  # xtick locations\n",
    "labels = ['No Hypertension', 'Hypertension']  # xtick labels\n",
    "plt.xticks(locations, labels)\n",
    "\n",
    "# legend\n",
    "plt.legend();"
   ]
  },
  {
   "cell_type": "code",
   "execution_count": 208,
   "id": "f37a9a3b",
   "metadata": {},
   "outputs": [
    {
     "data": {
      "text/plain": [
       "0    79.092838\n",
       "1    82.740836\n",
       "dtype: float64"
      ]
     },
     "execution_count": 208,
     "metadata": {},
     "output_type": "execute_result"
    }
   ],
   "source": [
    "# Percentage of people that showed up who have or not hypertension\n",
    "percent_show_hypertension"
   ]
  },
  {
   "cell_type": "code",
   "execution_count": 209,
   "id": "24ce3d24",
   "metadata": {},
   "outputs": [
    {
     "data": {
      "text/plain": [
       "0    20.907162\n",
       "1    17.259164\n",
       "dtype: float64"
      ]
     },
     "execution_count": 209,
     "metadata": {},
     "output_type": "execute_result"
    }
   ],
   "source": [
    "# Percentage of people that did not show up who have or not hypertension\n",
    "percent_no_show_hypertension"
   ]
  },
  {
   "cell_type": "markdown",
   "id": "39126822",
   "metadata": {},
   "source": [
    "The number of people who have hypertension is significantly lower compared to the people who do not have the condition, and we see that people who have hypertension tend to assist their appointment 3.65% more than people who don't have hypertension."
   ]
  },
  {
   "cell_type": "markdown",
   "id": "c8d154ae",
   "metadata": {},
   "source": [
    "#### Diabetes"
   ]
  },
  {
   "cell_type": "code",
   "execution_count": 210,
   "id": "4b3106db",
   "metadata": {},
   "outputs": [],
   "source": [
    "df_diab_no = df.query('diabetes == 0')\n",
    "df_diab_yes = df.query('diabetes == 1')"
   ]
  },
  {
   "cell_type": "code",
   "execution_count": 252,
   "id": "4e72138c",
   "metadata": {},
   "outputs": [
    {
     "data": {
      "text/plain": [
       "1    7.160856\n",
       "Name: diabetes, dtype: float64"
      ]
     },
     "execution_count": 252,
     "metadata": {},
     "output_type": "execute_result"
    }
   ],
   "source": [
    "# Percentage of people with diabetes\n",
    "df_diab_yes['diabetes'].value_counts() / df.shape[0] * 100"
   ]
  },
  {
   "cell_type": "code",
   "execution_count": 211,
   "id": "de37e60f",
   "metadata": {},
   "outputs": [],
   "source": [
    "amount_show_diab_yes = df_diab_yes['showed_up'].value_counts() \n",
    "percent_show_diab_yes = amount_show_diab_yes / df_diab_yes.shape[0] * 100"
   ]
  },
  {
   "cell_type": "code",
   "execution_count": 212,
   "id": "7f57cdaa",
   "metadata": {},
   "outputs": [],
   "source": [
    "amount_show_diab_no = df_diab_no['showed_up'].value_counts() \n",
    "percent_show_diab_no = amount_show_diab_no / df_diab_no.shape[0] * 100"
   ]
  },
  {
   "cell_type": "code",
   "execution_count": 213,
   "id": "a1e9b651",
   "metadata": {},
   "outputs": [],
   "source": [
    "amount_show_diabetes = pd.Series(np.array([amount_show_diab_no['Yes'], amount_show_diab_yes['Yes']]))\n",
    "amount_no_show_diabetes = pd.Series(np.array([amount_show_diab_no['No'], amount_show_diab_yes['No']]))\n",
    "percent_show_diabetes = pd.Series(np.array([percent_show_diab_no['Yes'], percent_show_diab_yes['Yes']]))\n",
    "percent_no_show_diabetes = pd.Series(np.array([percent_show_diab_no['No'], percent_show_diab_yes['No']]))"
   ]
  },
  {
   "cell_type": "code",
   "execution_count": 214,
   "id": "13bf76c0",
   "metadata": {},
   "outputs": [
    {
     "data": {
      "image/png": "[encoded data removed]",
      "text/plain": [
       "<Figure size 432x288 with 1 Axes>"
      ]
     },
     "metadata": {
      "needs_background": "light"
     },
     "output_type": "display_data"
    }
   ],
   "source": [
    "ind_x = np.arange(len(amount_show_diabetes))  # the x locations for the groups\n",
    "width_bars = 0.35       # the width of the bars\n",
    "\n",
    "blue_bars = plt.bar(ind_x, amount_show_diabetes, width_bars, color='blue', label='Showed Up')\n",
    "orange_bars = plt.bar(ind_x + width_bars, amount_no_show_diabetes, width_bars, color='red', label='No Show')\n",
    "\n",
    "# title and labels\n",
    "plt.ylabel('Amount')\n",
    "plt.xlabel('Diabtes')\n",
    "plt.title('Amount of Attendance by Diabetes Diagnosis')\n",
    "locations = ind_x + width_bars / 2  # xtick locations\n",
    "labels = ['No Diabtes', 'Diabtes']  # xtick labels\n",
    "plt.xticks(locations, labels)\n",
    "\n",
    "# legend\n",
    "plt.legend();"
   ]
  },
  {
   "cell_type": "code",
   "execution_count": 215,
   "id": "87647269",
   "metadata": {},
   "outputs": [
    {
     "data": {
      "image/png": "[encoded data removed]",
      "text/plain": [
       "<Figure size 432x288 with 1 Axes>"
      ]
     },
     "metadata": {
      "needs_background": "light"
     },
     "output_type": "display_data"
    }
   ],
   "source": [
    "ind_x = np.arange(len(percent_show_diabetes))  # the x locations for the groups\n",
    "width_bars = 0.35       # the width of the bars\n",
    "\n",
    "blue_bars = plt.bar(ind_x, percent_show_diabetes, width_bars, color='blue', label='Showed Up')\n",
    "orange_bars = plt.bar(ind_x + width_bars, percent_no_show_diabetes, width_bars, color='red', label='No Show')\n",
    "\n",
    "# title and labels\n",
    "plt.ylabel('Percentage')\n",
    "plt.xlabel('Diabtes')\n",
    "plt.title('Percentage of Attendance by Diabtes Diagnosis')\n",
    "locations = ind_x + width_bars / 2  # xtick locations\n",
    "labels = ['No Diabtes', 'Diabtes']  # xtick labels\n",
    "plt.xticks(locations, labels)\n",
    "\n",
    "# legend\n",
    "plt.legend();"
   ]
  },
  {
   "cell_type": "code",
   "execution_count": 216,
   "id": "fc417723",
   "metadata": {},
   "outputs": [
    {
     "data": {
      "text/plain": [
       "0    79.642069\n",
       "1    82.000000\n",
       "dtype: float64"
      ]
     },
     "execution_count": 216,
     "metadata": {},
     "output_type": "execute_result"
    }
   ],
   "source": [
    "# Percentage of people that showed up who have or not diabetes\n",
    "percent_show_diabetes"
   ]
  },
  {
   "cell_type": "code",
   "execution_count": 217,
   "id": "5fc22892",
   "metadata": {},
   "outputs": [
    {
     "data": {
      "text/plain": [
       "0    20.357931\n",
       "1    18.000000\n",
       "dtype: float64"
      ]
     },
     "execution_count": 217,
     "metadata": {},
     "output_type": "execute_result"
    }
   ],
   "source": [
    "# Percentage of people that did not show up who have or not diabetes\n",
    "percent_no_show_diabetes"
   ]
  },
  {
   "cell_type": "markdown",
   "id": "aa2f142b",
   "metadata": {},
   "source": [
    "The number of people who have diabetes is even lower than the number of people who have hypertension. We see that people who have diabetes attend 2.36% more than people who don't have diabetes. "
   ]
  },
  {
   "cell_type": "markdown",
   "id": "bb2ddc1e",
   "metadata": {},
   "source": [
    "#### Alcoholism"
   ]
  },
  {
   "cell_type": "code",
   "execution_count": 218,
   "id": "9bf9a593",
   "metadata": {},
   "outputs": [],
   "source": [
    "df_alco_no = df.query('alcoholism == 0')\n",
    "df_alco_yes = df.query('alcoholism == 1')"
   ]
  },
  {
   "cell_type": "code",
   "execution_count": 253,
   "id": "2d1c6a6c",
   "metadata": {},
   "outputs": [
    {
     "data": {
      "text/plain": [
       "1    3.038379\n",
       "Name: alcoholism, dtype: float64"
      ]
     },
     "execution_count": 253,
     "metadata": {},
     "output_type": "execute_result"
    }
   ],
   "source": [
    "# Percentage of people with alcoholism\n",
    "df_alco_yes['alcoholism'].value_counts() / df.shape[0] * 100"
   ]
  },
  {
   "cell_type": "code",
   "execution_count": 219,
   "id": "4fdc0297",
   "metadata": {},
   "outputs": [],
   "source": [
    "amount_show_alco_yes = df_alco_yes['showed_up'].value_counts() \n",
    "percent_show_alco_yes = amount_show_alco_yes / df_alco_yes.shape[0] * 100"
   ]
  },
  {
   "cell_type": "code",
   "execution_count": 220,
   "id": "b998ee1a",
   "metadata": {},
   "outputs": [],
   "source": [
    "amount_show_alco_no = df_alco_no['showed_up'].value_counts() \n",
    "percent_show_alco_no = amount_show_alco_no / df_alco_no.shape[0] * 100"
   ]
  },
  {
   "cell_type": "code",
   "execution_count": 221,
   "id": "65527a4a",
   "metadata": {},
   "outputs": [],
   "source": [
    "amount_show_alcoholism = pd.Series(np.array([amount_show_alco_no['Yes'], amount_show_alco_yes['Yes']]))\n",
    "amount_no_show_alcoholism = pd.Series(np.array([amount_show_alco_no['No'], amount_show_alco_yes['No']]))\n",
    "percent_show_alcoholism = pd.Series(np.array([percent_show_alco_no['Yes'], percent_show_alco_yes['Yes']]))\n",
    "percent_no_show_alcoholism = pd.Series(np.array([percent_show_alco_no['No'], percent_show_alco_yes['No']]))"
   ]
  },
  {
   "cell_type": "code",
   "execution_count": 222,
   "id": "f7cf7142",
   "metadata": {},
   "outputs": [
    {
     "data": {
      "image/png": "[encoded data removed]",
      "text/plain": [
       "<Figure size 432x288 with 1 Axes>"
      ]
     },
     "metadata": {
      "needs_background": "light"
     },
     "output_type": "display_data"
    }
   ],
   "source": [
    "ind_x = np.arange(len(amount_show_alcoholism))  # the x locations for the groups\n",
    "width_bars = 0.35       # the width of the bars\n",
    "\n",
    "blue_bars = plt.bar(ind_x, amount_show_alcoholism, width_bars, color='blue', label='Showed Up')\n",
    "orange_bars = plt.bar(ind_x + width_bars, amount_no_show_alcoholism, width_bars, color='red', label='No Show')\n",
    "\n",
    "# title and labels\n",
    "plt.ylabel('Amount')\n",
    "plt.xlabel('Alcoholism')\n",
    "plt.title('Amount of Attendance by Alcoholism Diagnosis')\n",
    "locations = ind_x + width_bars / 2  # xtick locations\n",
    "labels = ['No Alcoholism', 'Alcoholism']  # xtick labels\n",
    "plt.xticks(locations, labels)\n",
    "\n",
    "# legend\n",
    "plt.legend();"
   ]
  },
  {
   "cell_type": "code",
   "execution_count": 223,
   "id": "592ecfbc",
   "metadata": {},
   "outputs": [
    {
     "data": {
      "image/png": "[encoded data removed]",
      "text/plain": [
       "<Figure size 432x288 with 1 Axes>"
      ]
     },
     "metadata": {
      "needs_background": "light"
     },
     "output_type": "display_data"
    }
   ],
   "source": [
    "ind_x = np.arange(len(percent_show_alcoholism))  # the x locations for the groups\n",
    "width_bars = 0.35       # the width of the bars\n",
    "\n",
    "blue_bars = plt.bar(ind_x, percent_show_alcoholism, width_bars, color='blue', label='Showed Up')\n",
    "orange_bars = plt.bar(ind_x + width_bars, percent_no_show_alcoholism, width_bars, color='red', label='No Show')\n",
    "\n",
    "# title and labels\n",
    "plt.ylabel('Percentage')\n",
    "plt.xlabel('Alcoholism')\n",
    "plt.title('Percentage of Attendance by Alcoholism Diagnosis')\n",
    "locations = ind_x + width_bars / 2  # xtick locations\n",
    "labels = ['No Alcoholism', 'Alcoholism']  # xtick labels\n",
    "plt.xticks(locations, labels)\n",
    "\n",
    "# legend\n",
    "plt.legend();"
   ]
  },
  {
   "cell_type": "code",
   "execution_count": 224,
   "id": "6649dbd7",
   "metadata": {},
   "outputs": [
    {
     "data": {
      "text/plain": [
       "0    79.809292\n",
       "1    79.862768\n",
       "dtype: float64"
      ]
     },
     "execution_count": 224,
     "metadata": {},
     "output_type": "execute_result"
    }
   ],
   "source": [
    "# Percentage of people that showed up who have or not alcoholism\n",
    "percent_show_alcoholism"
   ]
  },
  {
   "cell_type": "code",
   "execution_count": 225,
   "id": "90f036ad",
   "metadata": {},
   "outputs": [
    {
     "data": {
      "text/plain": [
       "0    20.190708\n",
       "1    20.137232\n",
       "dtype: float64"
      ]
     },
     "execution_count": 225,
     "metadata": {},
     "output_type": "execute_result"
    }
   ],
   "source": [
    "# Percentage of people that did not show up who have or not alcoholism\n",
    "percent_no_show_alcoholism"
   ]
  },
  {
   "cell_type": "markdown",
   "id": "1923bd6f",
   "metadata": {},
   "source": [
    "The number of people who have a diagnosis of alcoholism is lower than the number of people with diabetes, and we can see that there's virtually no difference in the percentage of people who have alcoholism and their attendance. "
   ]
  },
  {
   "cell_type": "markdown",
   "id": "5cb61446",
   "metadata": {},
   "source": [
    "### Research Question: Does being handicapped influence whether the patient shows up to the appointment?"
   ]
  },
  {
   "cell_type": "code",
   "execution_count": 226,
   "id": "7780cde5",
   "metadata": {},
   "outputs": [],
   "source": [
    "df_handi_no = df.query('handicap == 0')\n",
    "df_handi_yes = df.query('handicap == 1')"
   ]
  },
  {
   "cell_type": "code",
   "execution_count": 257,
   "id": "3af7ad2f",
   "metadata": {},
   "outputs": [
    {
     "data": {
      "text/plain": [
       "1    1.849133\n",
       "Name: handicap, dtype: float64"
      ]
     },
     "execution_count": 257,
     "metadata": {},
     "output_type": "execute_result"
    }
   ],
   "source": [
    "# Percentage of people handicapped\n",
    "df_handi_yes['handicap'].value_counts() / df.shape[0] * 100"
   ]
  },
  {
   "cell_type": "code",
   "execution_count": 227,
   "id": "dd6125cc",
   "metadata": {},
   "outputs": [],
   "source": [
    "amount_show_handi_yes = df_handi_yes['showed_up'].value_counts() \n",
    "percent_show_handi_yes = amount_show_handi_yes / df_handi_yes.shape[0] * 100"
   ]
  },
  {
   "cell_type": "code",
   "execution_count": 228,
   "id": "c5c85401",
   "metadata": {},
   "outputs": [],
   "source": [
    "amount_show_handi_no = df_handi_no['showed_up'].value_counts() \n",
    "percent_show_handi_no = amount_show_handi_no / df_handi_no.shape[0] * 100"
   ]
  },
  {
   "cell_type": "code",
   "execution_count": 229,
   "id": "5a10148b",
   "metadata": {},
   "outputs": [],
   "source": [
    "amount_show_handicap = pd.Series(np.array([amount_show_handi_no['Yes'], amount_show_handi_yes['Yes']]))\n",
    "amount_no_show_handicap = pd.Series(np.array([amount_show_handi_no['No'], amount_show_handi_yes['No']]))\n",
    "percent_show_handicap = pd.Series(np.array([percent_show_handi_no['Yes'], percent_show_handi_yes['Yes']]))\n",
    "percent_no_show_handicap = pd.Series(np.array([percent_show_handi_no['No'], percent_show_handi_yes['No']]))"
   ]
  },
  {
   "cell_type": "code",
   "execution_count": 230,
   "id": "74f4b61b",
   "metadata": {},
   "outputs": [
    {
     "data": {
      "image/png": "[encoded data removed]",
      "text/plain": [
       "<Figure size 432x288 with 1 Axes>"
      ]
     },
     "metadata": {
      "needs_background": "light"
     },
     "output_type": "display_data"
    }
   ],
   "source": [
    "ind_x = np.arange(len(amount_show_handicap))  # the x locations for the groups\n",
    "width_bars = 0.35       # the width of the bars\n",
    "\n",
    "blue_bars = plt.bar(ind_x, amount_show_handicap, width_bars, color='blue', label='Showed Up')\n",
    "orange_bars = plt.bar(ind_x + width_bars, amount_no_show_handicap, width_bars, color='red', label='No Show')\n",
    "\n",
    "# title and labels\n",
    "plt.ylabel('Amount')\n",
    "plt.xlabel('Handicap')\n",
    "plt.title('Amount of Attendance by Handicap Diagnosis')\n",
    "locations = ind_x + width_bars / 2  # xtick locations\n",
    "labels = ['No Handicap', 'Handicap']  # xtick labels\n",
    "plt.xticks(locations, labels)\n",
    "\n",
    "# legend\n",
    "plt.legend();"
   ]
  },
  {
   "cell_type": "code",
   "execution_count": 231,
   "id": "c202b9d4",
   "metadata": {},
   "outputs": [
    {
     "data": {
      "image/png": "[encoded data removed]",
      "text/plain": [
       "<Figure size 432x288 with 1 Axes>"
      ]
     },
     "metadata": {
      "needs_background": "light"
     },
     "output_type": "display_data"
    }
   ],
   "source": [
    "ind_x = np.arange(len(percent_show_handicap))  # the x locations for the groups\n",
    "width_bars = 0.35       # the width of the bars\n",
    "\n",
    "blue_bars = plt.bar(ind_x, percent_show_handicap, width_bars, color='blue', label='Showed Up')\n",
    "orange_bars = plt.bar(ind_x + width_bars, percent_no_show_handicap, width_bars, color='red', label='No Show')\n",
    "\n",
    "# title and labels\n",
    "plt.ylabel('Percentage')\n",
    "plt.xlabel('Handicap')\n",
    "plt.title('Percentage of Attendance by Handicap Diagnosis')\n",
    "locations = ind_x + width_bars / 2  # xtick locations\n",
    "labels = ['No Handicap', 'Handicap']  # xtick labels\n",
    "plt.xticks(locations, labels)\n",
    "\n",
    "# legend\n",
    "plt.legend();"
   ]
  },
  {
   "cell_type": "code",
   "execution_count": 232,
   "id": "4216641a",
   "metadata": {},
   "outputs": [
    {
     "data": {
      "text/plain": [
       "0    79.766720\n",
       "1    82.156863\n",
       "dtype: float64"
      ]
     },
     "execution_count": 232,
     "metadata": {},
     "output_type": "execute_result"
    }
   ],
   "source": [
    "# Percentage of people that showed up who are or not handicapped\n",
    "percent_show_handicap"
   ]
  },
  {
   "cell_type": "code",
   "execution_count": 233,
   "id": "85d75bd0",
   "metadata": {},
   "outputs": [
    {
     "data": {
      "text/plain": [
       "0    20.233280\n",
       "1    17.843137\n",
       "dtype: float64"
      ]
     },
     "execution_count": 233,
     "metadata": {},
     "output_type": "execute_result"
    }
   ],
   "source": [
    "# Percentage of people that did not show up who are or not handicapped\n",
    "percent_no_show_handicap"
   ]
  },
  {
   "cell_type": "markdown",
   "id": "a2fddc44",
   "metadata": {},
   "source": [
    "The number of people handicapped is very low, but we can see there's a 2.39% more attendance from people handicapped compared to people who are not handicapped. "
   ]
  },
  {
   "cell_type": "markdown",
   "id": "37a9750f",
   "metadata": {},
   "source": [
    "### Research Question: Does being enrolled in Bolsa Familia correlate to patients showing up to the appointment?"
   ]
  },
  {
   "cell_type": "code",
   "execution_count": 234,
   "id": "6c1cc902",
   "metadata": {},
   "outputs": [],
   "source": [
    "df_schol_no = df.query('scholarship == 0')\n",
    "df_schol_yes = df.query('scholarship == 1')"
   ]
  },
  {
   "cell_type": "code",
   "execution_count": 255,
   "id": "22055b76",
   "metadata": {},
   "outputs": [
    {
     "data": {
      "text/plain": [
       "1    9.828502\n",
       "Name: scholarship, dtype: float64"
      ]
     },
     "execution_count": 255,
     "metadata": {},
     "output_type": "execute_result"
    }
   ],
   "source": [
    "# Percentage of people with scholarships\n",
    "df_schol_yes['scholarship'].value_counts() / df.shape[0] * 100"
   ]
  },
  {
   "cell_type": "code",
   "execution_count": 235,
   "id": "1a8154d0",
   "metadata": {},
   "outputs": [],
   "source": [
    "amount_show_schol_yes = df_schol_yes['showed_up'].value_counts() \n",
    "percent_show_schol_yes = amount_show_schol_yes / df_schol_yes.shape[0] * 100"
   ]
  },
  {
   "cell_type": "code",
   "execution_count": 236,
   "id": "37f5d5aa",
   "metadata": {},
   "outputs": [],
   "source": [
    "amount_show_schol_no = df_schol_no['showed_up'].value_counts() \n",
    "percent_show_schol_no = amount_show_schol_no / df_schol_no.shape[0] * 100"
   ]
  },
  {
   "cell_type": "code",
   "execution_count": 237,
   "id": "a49eebd3",
   "metadata": {},
   "outputs": [],
   "source": [
    "amount_show_scholarship = pd.Series(np.array([amount_show_schol_no['Yes'], amount_show_schol_yes['Yes']]))\n",
    "amount_no_show_scholarship = pd.Series(np.array([amount_show_schol_no['No'], amount_show_schol_yes['No']]))\n",
    "percent_show_scholarship = pd.Series(np.array([percent_show_schol_no['Yes'], percent_show_schol_yes['Yes']]))\n",
    "percent_no_show_scholarship = pd.Series(np.array([percent_show_schol_no['No'], percent_show_schol_yes['No']]))"
   ]
  },
  {
   "cell_type": "code",
   "execution_count": 238,
   "id": "34b4b6fb",
   "metadata": {},
   "outputs": [
    {
     "data": {
      "image/png": "[encoded data removed]",
      "text/plain": [
       "<Figure size 432x288 with 1 Axes>"
      ]
     },
     "metadata": {
      "needs_background": "light"
     },
     "output_type": "display_data"
    }
   ],
   "source": [
    "ind_x = np.arange(len(amount_show_scholarship))  # the x locations for the groups\n",
    "width_bars = 0.35       # the width of the bars\n",
    "\n",
    "blue_bars = plt.bar(ind_x, amount_show_scholarship, width_bars, color='blue', label='Showed Up')\n",
    "orange_bars = plt.bar(ind_x + width_bars, amount_no_show_scholarship, width_bars, color='red', label='No Show')\n",
    "\n",
    "# title and labels\n",
    "plt.ylabel('Amount')\n",
    "plt.xlabel('Scholarship')\n",
    "plt.title('Amount of Attendance by Scholarship Diagnosis')\n",
    "locations = ind_x + width_bars / 2  # xtick locations\n",
    "labels = ['No Scholarship', 'Scholarship']  # xtick labels\n",
    "plt.xticks(locations, labels)\n",
    "\n",
    "# legend\n",
    "plt.legend();"
   ]
  },
  {
   "cell_type": "code",
   "execution_count": 239,
   "id": "ec0bd21a",
   "metadata": {},
   "outputs": [
    {
     "data": {
      "image/png": "[encoded data removed]",
      "text/plain": [
       "<Figure size 432x288 with 1 Axes>"
      ]
     },
     "metadata": {
      "needs_background": "light"
     },
     "output_type": "display_data"
    }
   ],
   "source": [
    "ind_x = np.arange(len(percent_show_scholarship))  # the x locations for the groups\n",
    "width_bars = 0.35       # the width of the bars\n",
    "\n",
    "blue_bars = plt.bar(ind_x, percent_show_scholarship, width_bars, color='blue', label='Showed Up')\n",
    "orange_bars = plt.bar(ind_x + width_bars, percent_no_show_scholarship, width_bars, color='red', label='No Show')\n",
    "\n",
    "# title and labels\n",
    "plt.ylabel('Percentage')\n",
    "plt.xlabel('Scholarship')\n",
    "plt.title('Percentage of Attendance by Scholarship Diagnosis')\n",
    "locations = ind_x + width_bars / 2  # xtick locations\n",
    "labels = ['No Scholarship', 'Scholarship']  # xtick labels\n",
    "plt.xticks(locations, labels)\n",
    "\n",
    "# legend\n",
    "plt.legend();"
   ]
  },
  {
   "cell_type": "code",
   "execution_count": 240,
   "id": "140dc6ba",
   "metadata": {},
   "outputs": [
    {
     "data": {
      "text/plain": [
       "0    80.200846\n",
       "1    76.233515\n",
       "dtype: float64"
      ]
     },
     "execution_count": 240,
     "metadata": {},
     "output_type": "execute_result"
    }
   ],
   "source": [
    "# Percentage of people that showed up who are or are not enrolled in Bolsa Familia\n",
    "percent_show_scholarship"
   ]
  },
  {
   "cell_type": "code",
   "execution_count": 241,
   "id": "4fa608d3",
   "metadata": {},
   "outputs": [
    {
     "data": {
      "text/plain": [
       "0    19.799154\n",
       "1    23.766485\n",
       "dtype: float64"
      ]
     },
     "execution_count": 241,
     "metadata": {},
     "output_type": "execute_result"
    }
   ],
   "source": [
    "# Percentage of people that did not show up who are or are not enrolled in Bolsa Familia\n",
    "percent_no_show_scholarship"
   ]
  },
  {
   "cell_type": "markdown",
   "id": "27af5933",
   "metadata": {},
   "source": [
    "There are more people who **do not** have insurance with Bolsa Familia. We can see that people who have this insurance miss their appointments by 3.97% more."
   ]
  },
  {
   "cell_type": "markdown",
   "id": "9f29c44f",
   "metadata": {},
   "source": [
    "### Research Question: Does being alerted via SMS increases the chances of the patient showing up to the appointment?"
   ]
  },
  {
   "cell_type": "code",
   "execution_count": 242,
   "id": "b179aa70",
   "metadata": {},
   "outputs": [],
   "source": [
    "df_sms_no = df.query('sms_received == 0')\n",
    "df_sms_yes = df.query('sms_received == 1')"
   ]
  },
  {
   "cell_type": "code",
   "execution_count": 256,
   "id": "53c734e7",
   "metadata": {},
   "outputs": [
    {
     "data": {
      "text/plain": [
       "1    32.119613\n",
       "Name: sms_received, dtype: float64"
      ]
     },
     "execution_count": 256,
     "metadata": {},
     "output_type": "execute_result"
    }
   ],
   "source": [
    "# Percentage of people alerted via SMS\n",
    "df_sms_yes['sms_received'].value_counts() / df.shape[0] * 100"
   ]
  },
  {
   "cell_type": "code",
   "execution_count": 243,
   "id": "90d48a99",
   "metadata": {},
   "outputs": [],
   "source": [
    "amount_show_sms_yes = df_sms_yes['showed_up'].value_counts() \n",
    "percent_show_sms_yes = amount_show_sms_yes / df_sms_yes.shape[0] * 100"
   ]
  },
  {
   "cell_type": "code",
   "execution_count": 244,
   "id": "39a10ba6",
   "metadata": {},
   "outputs": [],
   "source": [
    "amount_show_sms_no = df_sms_no['showed_up'].value_counts() \n",
    "percent_show_sms_no = amount_show_sms_no / df_sms_no.shape[0] * 100"
   ]
  },
  {
   "cell_type": "code",
   "execution_count": 245,
   "id": "3b311da7",
   "metadata": {},
   "outputs": [],
   "source": [
    "amount_show_sms = pd.Series(np.array([amount_show_sms_no['Yes'], amount_show_sms_yes['Yes']]))\n",
    "amount_no_show_sms = pd.Series(np.array([amount_show_sms_no['No'], amount_show_sms_yes['No']]))\n",
    "percent_show_sms = pd.Series(np.array([percent_show_sms_no['Yes'], percent_show_sms_yes['Yes']]))\n",
    "percent_no_show_sms = pd.Series(np.array([percent_show_sms_no['No'], percent_show_sms_yes['No']]))"
   ]
  },
  {
   "cell_type": "code",
   "execution_count": 246,
   "id": "51bf9591",
   "metadata": {},
   "outputs": [
    {
     "data": {
      "image/png": "[encoded data removed]",
      "text/plain": [
       "<Figure size 432x288 with 1 Axes>"
      ]
     },
     "metadata": {
      "needs_background": "light"
     },
     "output_type": "display_data"
    }
   ],
   "source": [
    "ind_x = np.arange(len(amount_show_sms))  # the x locations for the groups\n",
    "width_bars = 0.35       # the width of the bars\n",
    "\n",
    "blue_bars = plt.bar(ind_x, amount_show_sms, width_bars, color='blue', label='Showed Up')\n",
    "orange_bars = plt.bar(ind_x + width_bars, amount_no_show_sms, width_bars, color='red', label='No Show')\n",
    "\n",
    "# title and labels\n",
    "plt.ylabel('Amount')\n",
    "plt.xlabel('SMS Received')\n",
    "plt.title('Amount of Attendance After SMS Alert')\n",
    "locations = ind_x + width_bars / 2  # xtick locations\n",
    "labels = ['No SMS', 'Alerted']  # xtick labels\n",
    "plt.xticks(locations, labels)\n",
    "\n",
    "# legend\n",
    "plt.legend();"
   ]
  },
  {
   "cell_type": "code",
   "execution_count": 247,
   "id": "ea26a279",
   "metadata": {},
   "outputs": [
    {
     "data": {
      "image/png": "[encoded data removed]",
      "text/plain": [
       "<Figure size 432x288 with 1 Axes>"
      ]
     },
     "metadata": {
      "needs_background": "light"
     },
     "output_type": "display_data"
    }
   ],
   "source": [
    "ind_x = np.arange(len(percent_show_sms))  # the x locations for the groups\n",
    "width_bars = 0.35       # the width of the bars\n",
    "\n",
    "blue_bars = plt.bar(ind_x, percent_show_sms, width_bars, color='blue', label='Showed Up')\n",
    "orange_bars = plt.bar(ind_x + width_bars, percent_no_show_sms, width_bars, color='red', label='No Show')\n",
    "\n",
    "# title and labels\n",
    "plt.ylabel('Percentage')\n",
    "plt.xlabel('SMS Received')\n",
    "plt.title('Percentage of Attendance After SMS Alert')\n",
    "locations = ind_x + width_bars / 2  # xtick locations\n",
    "labels = ['No SMS', 'Alerted']  # xtick labels\n",
    "plt.xticks(locations, labels)\n",
    "\n",
    "# legend\n",
    "plt.legend();"
   ]
  },
  {
   "cell_type": "code",
   "execution_count": 248,
   "id": "4efe8b4f",
   "metadata": {},
   "outputs": [
    {
     "data": {
      "text/plain": [
       "0    80.200846\n",
       "1    76.233515\n",
       "dtype: float64"
      ]
     },
     "execution_count": 248,
     "metadata": {},
     "output_type": "execute_result"
    }
   ],
   "source": [
    "# Percentage of people that showed up who were or not alerted via SMS\n",
    "percent_show_scholarship"
   ]
  },
  {
   "cell_type": "code",
   "execution_count": 249,
   "id": "5f309f59",
   "metadata": {},
   "outputs": [
    {
     "data": {
      "text/plain": [
       "0    19.799154\n",
       "1    23.766485\n",
       "dtype: float64"
      ]
     },
     "execution_count": 249,
     "metadata": {},
     "output_type": "execute_result"
    }
   ],
   "source": [
    "# Percentage of people that did not show up who were or not alerted via SMS\n",
    "percent_no_show_scholarship"
   ]
  },
  {
   "cell_type": "markdown",
   "id": "8d7bc1db",
   "metadata": {},
   "source": [
    "The analysis shows that people who were alerted via SMS missed their appointments 3.97% more compared to people who were not alerted. "
   ]
  },
  {
   "cell_type": "markdown",
   "id": "0363a774",
   "metadata": {},
   "source": [
    "<a id='conclusions'></a>\n",
    "## Conclusions"
   ]
  },
  {
   "cell_type": "markdown",
   "id": "57b2686f",
   "metadata": {},
   "source": [
    "- The amount of appointments made by women is approximately double of the amount of appointments made by men. But despite that, roughly half the women and half the men did not show up to their appointment. We cannot predict if a person will not show up based on gender.\n",
    "\n",
    "- Babies and young children have more appointments than any other age group and they attend their appointments more in comparison to older people. We could say if the patient is very young there is a greater chance of showing up.\n",
    "\n",
    "- People ages 10 - 25 and ages 41 - 48 schedule fewer appointments than the rest, but they tend to miss their appointments more. We also see that people ages 50 - 64 schedule more appointments and attend to them more than they miss compared to younger people, and there's a greater chance of them showing up when the age is closer to 64. \n",
    "\n",
    "- When the time between scheduling and the actual appointment is shorter people attend more. The period between 0 and 7 days has an attendance rate of 86.48%. If we schedule the appointment farther than 8 days the attendance rate decreases to 68% on average. We can claim that if the appointment is within one week of scheduling the greater the chance the patient will show up. \n",
    "\n",
    "- The data shows that people with chronic diagnoses like hypertension, diabetes, or handicap tend to show up to the appointments by 2 or 3 percentile points more than people who do not have these, except for alcoholism where there’s virtually no difference if a person is alcoholic or not. We can say that there's a greater chance of people showing up if they have a chronic disease but it's not significant. \n",
    "\n",
    "- The majority of people, around 90%, are not enrolled in the Bolsa Familia scholarship, but people who have this insurance miss their appointments by 3.97% more. \n",
    "\n",
    "- Being alerted via SMS about their appointments did not show a greater attendance, in fact, people who did not receive a notification attended by 3.97% more. There's no benefit in alerting the patient via SMS, although we don't how in advance they were notified with the data that we have. Calling them one day before their appointment might be a better solution, but we lack that information to say for certain, we would need to collect it. "
   ]
  }
 ],
 "metadata": {
  "interpreter": {
   "hash": "40d3a090f54c6569ab1632332b64b2c03c39dcf918b08424e98f38b5ae0af88f"
  },
  "kernelspec": {
   "display_name": "Python 3.9.7 ('base')",
   "language": "python",
   "name": "python3"
  },
  "language_info": {
   "codemirror_mode": {
    "name": "ipython",
    "version": 3
   },
   "file_extension": ".py",
   "mimetype": "text/x-python",
   "name": "python",
   "nbconvert_exporter": "python",
   "pygments_lexer": "ipython3",
   "version": "3.9.7"
  }
 },
 "nbformat": 4,
 "nbformat_minor": 5
}
